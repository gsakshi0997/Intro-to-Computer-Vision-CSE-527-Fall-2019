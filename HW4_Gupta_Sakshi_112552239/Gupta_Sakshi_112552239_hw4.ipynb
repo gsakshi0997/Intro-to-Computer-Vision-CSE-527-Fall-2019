{
  "nbformat": 4,
  "nbformat_minor": 0,
  "metadata": {
    "anaconda-cloud": {},
    "kernelspec": {
      "name": "python3",
      "display_name": "Python 3"
    },
    "language_info": {
      "codemirror_mode": {
        "name": "ipython",
        "version": 3
      },
      "file_extension": ".py",
      "mimetype": "text/x-python",
      "name": "python",
      "nbconvert_exporter": "python",
      "pygments_lexer": "ipython3",
      "version": "3.7.3"
    },
    "colab": {
      "name": "Gupta_Sakshi_112552239_hw4.ipynb",
      "provenance": [],
      "collapsed_sections": []
    },
    "accelerator": "GPU"
  },
  "cells": [
    {
      "cell_type": "markdown",
      "metadata": {
        "id": "XSfnuObtYYMH",
        "colab_type": "text"
      },
      "source": [
        "# CSE527 Homework 4\n",
        "**Due date: 23:59 on Nov. 5, 2019 (Thuesday)**\n",
        "\n",
        "In this semester, we will use Google Colab for the assignments, which allows us to utilize resources that some of us might not have in their local machines such as GPUs. You will need to use your Stony Brook (*.stonybrook.edu) account for coding and Google Drive to save your results.\n",
        "\n",
        "## Google Colab Tutorial\n",
        "---\n",
        "Go to https://colab.research.google.com/notebooks/, you will see a tutorial named \"Welcome to Colaboratory\" file, where you can learn the basics of using google colab.\n",
        "\n",
        "Settings used for assignments: ***Edit -> Notebook Settings -> Runtime Type (Python 3)***.\n",
        "\n",
        "\n",
        "## Description\n",
        "---\n",
        "This project is an introduction to deep learning tools for computer vision. You will design and train deep convolutional networks for scene recognition using [PyTorch](http://pytorch.org). You can visualize the\n",
        "structure of the network with [mNeuron] (http://vision03.csail.mit.edu/cnn_art/index.html)\n",
        "\n",
        "Remember Homework 3: Scene recognition with bag of words. You worked hard to design a bag of features representations that achieved 60% to 70% accuracy (most likely) on 16-way scene classification. We're going to attack the same task with deep learning and get higher accuracy. Training from scratch won't work quite as well as homework 3 due to the insufficient amount of data, fine-tuning an existing network will work much better than homework 3.\n",
        "\n",
        "In Problem 1 of the project you will train a deep convolutional network from scratch to recognize scenes. The starter codes gives you methods to load data and display them. You will need to define a simple network architecture and add jittering, normalization, and regularization to increase recognition accuracy to 50, 60, or perhaps 70%. Unfortunately, we only have 2,400 training examples so it doesn't seem possible to train a network from scratch which outperforms hand-crafted features\n",
        "\n",
        "For Problem 2 you will instead fine-tune a pre-trained deep network to achieve about 85% accuracy on the task. We will use the pretrained AlexNet network which was not trained to recognize scenes at all. \n",
        "\n",
        "These two approaches represent the most common approaches to recognition problems in computer vision today -- train a deep network from scratch if you have enough data (it's not always obvious whether or not you do), and if you cannot then instead fine-tune a pre-trained network.\n",
        "\n",
        "There are 2 problems in this homework with a total of 110 points including 10 bonus points. Be sure to read **Submission Guidelines** below. They are important. For the problems requiring text descriptions, you might want to add a markdown block for that.\n",
        "\n",
        "## Dataset\n",
        "---\n",
        "Save the [dataset(click me)](https://drive.google.com/open?id=1NWC3TMsXSWN2TeoYMCjhf2N1b-WRDh-M) into your working folder in your Google Drive for this homework. <br>\n",
        "Under your root folder, there should be a folder named \"data\" (i.e. XXX/Surname_Givenname_SBUID/data) containing the images.\n",
        "**Do not upload** the data subfolder before submitting on blackboard due to size limit. There should be only one .ipynb file under your root folder Surname_Givenname_SBUID.\n",
        "\n",
        "## Some Tutorials (PyTorch)\n",
        "---\n",
        "- You will be using PyTorch for deep learning toolbox (follow the [link](http://pytorch.org) for installation).\n",
        "- For PyTorch beginners, please read this [tutorial](http://pytorch.org/tutorials/beginner/deep_learning_60min_blitz.html) before doing your homework.\n",
        "- Feel free to study more tutorials at http://pytorch.org/tutorials/.\n",
        "- Find cool visualization here at http://playground.tensorflow.org.\n",
        "\n",
        "\n",
        "## Starter Code\n",
        "---\n",
        "In the starter code, you are provided with a function that loads data into minibatches for training and testing in PyTorch."
      ]
    },
    {
      "cell_type": "code",
      "metadata": {
        "id": "0UA6WFgcYYMI",
        "colab_type": "code",
        "colab": {}
      },
      "source": [
        "# import packages here\n",
        "import cv2\n",
        "import numpy as np\n",
        "import matplotlib.pyplot as plt\n",
        "import glob\n",
        "import random \n",
        "import time\n",
        "\n",
        "import torch\n",
        "import torchvision\n",
        "import torchvision.transforms as transforms\n",
        "\n",
        "from torch.autograd import Variable\n",
        "import torch.nn as nn\n",
        "import torch.nn.functional as F"
      ],
      "execution_count": 0,
      "outputs": []
    },
    {
      "cell_type": "code",
      "metadata": {
        "id": "L7T72O-1ks-a",
        "colab_type": "code",
        "outputId": "825a0b73-3367-411a-ae56-538323717206",
        "colab": {
          "base_uri": "https://localhost:8080/",
          "height": 34
        }
      },
      "source": [
        "# Mount your google drive where you've saved your assignment folder\n",
        "from google.colab import drive\n",
        "drive.mount('/content/gdrive')"
      ],
      "execution_count": 2,
      "outputs": [
        {
          "output_type": "stream",
          "text": [
            "Drive already mounted at /content/gdrive; to attempt to forcibly remount, call drive.mount(\"/content/gdrive\", force_remount=True).\n"
          ],
          "name": "stdout"
        }
      ]
    },
    {
      "cell_type": "code",
      "metadata": {
        "id": "xIT3WIuykrg0",
        "colab_type": "code",
        "outputId": "4120b8ea-71dd-4d89-a3d5-ca042a88ea70",
        "colab": {
          "base_uri": "https://localhost:8080/",
          "height": 34
        }
      },
      "source": [
        "# Set your working directory (in your google drive)\n",
        "# Note that 'gdrive/My Drive/Y2019Fall/CSE-527-Intro-To-Computer-Vision/hw4' is just an example, \n",
        "#   change it to your specific homework directory.\n",
        "cd '/content/gdrive/My Drive/Gupta_Sakshi_112552239_hw4'"
      ],
      "execution_count": 3,
      "outputs": [
        {
          "output_type": "stream",
          "text": [
            "/content/gdrive/My Drive/Gupta_Sakshi_112552239_hw4\n"
          ],
          "name": "stdout"
        }
      ]
    },
    {
      "cell_type": "code",
      "metadata": {
        "id": "0NxnBcUqk_9B",
        "colab_type": "code",
        "outputId": "64e3479b-1812-40a5-96b4-550450e19be5",
        "colab": {
          "base_uri": "https://localhost:8080/",
          "height": 54
        }
      },
      "source": [
        "# ==========================================\n",
        "#    Load Training Data and Testing Data\n",
        "# ==========================================\n",
        "class_names = [name[13:] for name in glob.glob('./data/train/*')]\n",
        "class_names = dict(zip(range(len(class_names)), class_names))\n",
        "print(\"class_names: %s \" % class_names)\n",
        "n_train_samples = 150\n",
        "n_test_samples = 50\n",
        "import skimage\n",
        "\n",
        "def img_norm(img):\n",
        "  #\n",
        "  # Write your code here\n",
        "  # normalize img pixels to [-1, 1]\n",
        "  #\n",
        "  img_nor=2*img.astype('float')/(255-0.5)\n",
        "  return img_nor\n",
        "\n",
        "def load_dataset(path, img_size, num_per_class=-1, batch_num=1, shuffle=False, augment=False, is_color=False,\n",
        "                rotate_90=False, zero_centered=False):\n",
        "    \n",
        "    data = []\n",
        "    labels = []\n",
        "    \n",
        "    if is_color:\n",
        "        channel_num = 3\n",
        "    else:\n",
        "        channel_num = 1\n",
        "        \n",
        "    # read images and resizing\n",
        "    for id, class_name in class_names.items():\n",
        "        print(\"Loading images from class: %s\" % id)\n",
        "        img_path_class = glob.glob(path + class_name + '/*.jpg')\n",
        "        if num_per_class > 0:\n",
        "            img_path_class = img_path_class[:num_per_class]\n",
        "        labels.extend([id]*len(img_path_class))\n",
        "        for filename in img_path_class:\n",
        "            if is_color:\n",
        "                img = cv2.imread(filename)\n",
        "            else:\n",
        "                img = cv2.imread(filename, 0)\n",
        "            \n",
        "            # resize the image\n",
        "            img = cv2.resize(img, img_size, cv2.INTER_LINEAR)\n",
        "            \n",
        "            if is_color:\n",
        "                img = np.transpose(img, [2, 0, 1])\n",
        "            \n",
        "            # norm pixel values to [-1, 1]\n",
        "            data.append(img_norm(img))\n",
        "            \n",
        "    #\n",
        "    # Write your Data Augmentation code here\n",
        "    # mirroring\n",
        "    #\n",
        "    if augment==True:\n",
        "        aug_img=[np.flip(img, 1) for img in data]\n",
        "        data.extend(aug_img)\n",
        "        labels.extend(labels)\n",
        "    if rotate_90==True:\n",
        "        rot_img=[skimage.transform.rotate(img,90) for img in data]\n",
        "        data.extend(rot_img)\n",
        "        labels.extend(labels)     \n",
        "    #\n",
        "    # Write your Data Normalization code here\n",
        "    # norm data to zero-centered\n",
        "    #\n",
        "    #data=data-np.mean(np.array(img),axis=0)\n",
        "    #size=data.shape[0]\n",
        "    #data=[data[im] for im in range(size)]\n",
        "     \n",
        "    # randomly permute (this step is important for training)\n",
        "    if shuffle:\n",
        "        bundle = list(zip(data, labels))\n",
        "        random.shuffle(bundle)\n",
        "        data, labels = zip(*bundle)\n",
        "    \n",
        "    # divide data into minibatches of TorchTensors\n",
        "    if batch_num > 1:\n",
        "        batch_data = []\n",
        "        batch_labels = []\n",
        "        \n",
        "        print(len(data))\n",
        "        print(batch_num)\n",
        "        \n",
        "        for i in range(int(len(data) / batch_num)):\n",
        "            minibatch_d = data[i*batch_num: (i+1)*batch_num]\n",
        "            minibatch_d = np.reshape(minibatch_d, (batch_num, channel_num, img_size[0], img_size[1]))\n",
        "            batch_data.append(torch.from_numpy(minibatch_d))\n",
        "\n",
        "            minibatch_l = labels[i*batch_num: (i+1)*batch_num]\n",
        "            batch_labels.append(torch.LongTensor(minibatch_l))\n",
        "        data, labels = batch_data, batch_labels \n",
        "    \n",
        "    return zip(batch_data, batch_labels)"
      ],
      "execution_count": 4,
      "outputs": [
        {
          "output_type": "stream",
          "text": [
            "class_names: {0: 'Store', 1: 'OpenCountry', 2: 'Kitchen', 3: 'Mountain', 4: 'LivingRoom', 5: 'TallBuilding', 6: 'Coast', 7: 'Flower', 8: 'Street', 9: 'InsideCity', 10: 'Highway', 11: 'Suburb', 12: 'Industrial', 13: 'Office', 14: 'Bedroom', 15: 'Forest', 16: '_DS_Store'} \n"
          ],
          "name": "stdout"
        }
      ]
    },
    {
      "cell_type": "code",
      "metadata": {
        "id": "wHI2VYbDloje",
        "colab_type": "code",
        "outputId": "f5a644e1-1318-4d9d-fe2a-fdb286dc2e29",
        "colab": {
          "base_uri": "https://localhost:8080/",
          "height": 697
        }
      },
      "source": [
        "# load data into size (64, 64)\n",
        "#import gc\n",
        "#gc.collect()\n",
        "img_size = (64, 64)\n",
        "batch_num = 50 # training sample number per batch\n",
        "\n",
        "# load training dataset\n",
        "trainloader_small = list(load_dataset('./data/train/', img_size, batch_num=batch_num, shuffle=True, \n",
        "                                      augment=True))\n",
        "train_num = len(trainloader_small)\n",
        "print(\"Finish loading %d minibatches(=%d) of training samples.\" % (train_num, batch_num))\n",
        "\n",
        "# load testing dataset\n",
        "testloader_small = list(load_dataset('./data/test/', img_size, num_per_class=50, batch_num=batch_num))\n",
        "test_num = len(testloader_small)\n",
        "print(\"Finish loading %d minibatches(=%d) of testing samples.\" % (test_num, batch_num))"
      ],
      "execution_count": 5,
      "outputs": [
        {
          "output_type": "stream",
          "text": [
            "Loading images from class: 0\n",
            "Loading images from class: 1\n",
            "Loading images from class: 2\n",
            "Loading images from class: 3\n",
            "Loading images from class: 4\n",
            "Loading images from class: 5\n",
            "Loading images from class: 6\n",
            "Loading images from class: 7\n",
            "Loading images from class: 8\n",
            "Loading images from class: 9\n",
            "Loading images from class: 10\n",
            "Loading images from class: 11\n",
            "Loading images from class: 12\n",
            "Loading images from class: 13\n",
            "Loading images from class: 14\n",
            "Loading images from class: 15\n",
            "Loading images from class: 16\n",
            "4802\n",
            "50\n",
            "Finish loading 96 minibatches(=50) of training samples.\n",
            "Loading images from class: 0\n",
            "Loading images from class: 1\n",
            "Loading images from class: 2\n",
            "Loading images from class: 3\n",
            "Loading images from class: 4\n",
            "Loading images from class: 5\n",
            "Loading images from class: 6\n",
            "Loading images from class: 7\n",
            "Loading images from class: 8\n",
            "Loading images from class: 9\n",
            "Loading images from class: 10\n",
            "Loading images from class: 11\n",
            "Loading images from class: 12\n",
            "Loading images from class: 13\n",
            "Loading images from class: 14\n",
            "Loading images from class: 15\n",
            "Loading images from class: 16\n",
            "400\n",
            "50\n",
            "Finish loading 8 minibatches(=50) of testing samples.\n"
          ],
          "name": "stdout"
        }
      ]
    },
    {
      "cell_type": "code",
      "metadata": {
        "id": "krCXjDOzlq0f",
        "colab_type": "code",
        "outputId": "aa605e9b-d3d1-43b6-f9b6-97339a1d9037",
        "colab": {
          "base_uri": "https://localhost:8080/",
          "height": 285
        }
      },
      "source": [
        "# show some images\n",
        "def imshow(img):\n",
        "    img = img / 2 + 0.5     # unnormalize\n",
        "    npimg = img.numpy()\n",
        "    if len(npimg.shape) > 2:\n",
        "        npimg = np.transpose(img, [1, 2, 0])\n",
        "    plt.figure\n",
        "    plt.imshow(npimg, 'gray')\n",
        "    plt.show()\n",
        "img, label = trainloader_small[0][0][11][0], trainloader_small[0][1][11]\n",
        "label = int(np.array(label))\n",
        "print(class_names[label])\n",
        "imshow(img)"
      ],
      "execution_count": 6,
      "outputs": [
        {
          "output_type": "stream",
          "text": [
            "Highway\n"
          ],
          "name": "stdout"
        },
        {
          "output_type": "display_data",
          "data": {
            "image/png": "[encoded data removed]",
            "text/plain": [
              "<Figure size 432x288 with 1 Axes>"
            ]
          },
          "metadata": {
            "tags": []
          }
        }
      ]
    },
    {
      "cell_type": "markdown",
      "metadata": {
        "id": "JGA-K6QzYYMR",
        "colab_type": "text"
      },
      "source": [
        "## Problem 1: Training a Network From Scratch\n",
        "{Part 1: 35 points} Gone are the days of hand designed features. Now we have end-to-end learning in which a highly non-linear representation is learned for our data to maximize our objective (in this case, 16-way classification accuracy). Instead of 70% accuracy we can now recognize scenes with... 25% accuracy. OK, that didn't work at all. Try to boost the accuracy by doing the following:\n",
        "\n",
        "**Data Augmentation**: We don't have enough training data, let's augment the training data.\n",
        "If you left-right flip (mirror) an image of a scene, it never changes categories. A kitchen doesn't become a forest when mirrored. This isn't true in all domains — a \"d\" becomes a \"b\" when mirrored, so you can't \"jitter\" digit recognition training data in the same way. But we can synthetically increase our amount of training data by left-right mirroring training images during the learning process.\n",
        "\n",
        "After you implement mirroring, you should notice that your training error doesn't drop as quickly. That's actually a good thing, because it means the network isn't overfitting to the 2,400 original training images as much (because it sees 4,800 training images now, although they're not as good as 4,800 truly independent samples). Because the training and test errors fall more slowly, you may need more training epochs or you may try modifying the learning rate. You should see a roughly 10% increase in accuracy by adding mirroring. You are **required** to implement mirroring as data augmentation for this part.\n",
        "\n",
        "You can try more elaborate forms of jittering -- zooming in a random amount, rotating a random amount, taking a random crop, etc. These are not required, you might want to try these in the bonus part.\n",
        "\n",
        "**Data Normalization**: The images aren't zero-centered. One simple trick which can help a lot is to subtract the mean from every image. It would arguably be more proper to only compute the mean from the training images (since the test/validation images should be strictly held out) but it won't make much of a difference. After doing this you should see another 15% or so increase in accuracy. This part is **required**.\n",
        "\n",
        "**Network Regularization**: Add dropout layer. If you train your network (especially for more than the default 30 epochs) you'll see that the training error can decrease to zero while the val top1 error hovers at 40% to 50%. The network has learned weights which can perfectly recognize the training data, but those weights don't generalize to held out test data. The best regularization would be more training data but we don't have that. Instead we will use dropout regularization.\n",
        "\n",
        "What does dropout regularization do? It randomly turns off network connections at training time to fight overfitting. This prevents a unit in one layer from relying too strongly on a single unit in the previous layer. Dropout regularization can be interpreted as simultaneously training many \"thinned\" versions of your network. At test, all connections are restored which is analogous to taking an average prediction over all of the \"thinned\" networks. You can see a more complete discussion of dropout regularization in this [paper](https://www.cs.toronto.edu/~hinton/absps/JMLRdropout.pdf).\n",
        "\n",
        "The dropout layer has only one free parameter — the dropout rate — the proportion of connections that are randomly deleted. The default of 0.5 should be fine. Insert a dropout layer between your convolutional layers. In particular, insert it directly before your last convolutional layer. Your test accuracy should increase by another 10%. Your train accuracy should decrease much more slowly. That's to be expected — you're making life much harder for the training algorithm by cutting out connections randomly. \n",
        "\n",
        "If you increase the number of training epochs (and maybe decrease the learning rate) you should be able to achieve around 50% test accuracy. In this part, you are **required** to add dropout layer to your network.\n",
        "\n",
        "Please give detailed descriptions of your network layout in the following format:<br>\n",
        "Data augmentation: [descriptions]<br>\n",
        "Data normalization: [descriptions]<br>\n",
        "Layer 1: [layer_type]: [Parameters]<br>\n",
        "Layer 2: [layer_type]: [Parameters]<br>\n",
        "...<br>\n",
        "Then report the final accuracy on test set and time consumed for training and testing separately.\n",
        "\n",
        "{Part 2: 15 points} Try **three techniques** taught in the class to increase the accuracy of your model. Such as increasing training data by randomly rotating training images, adding batch normalization, different activation functions (e.g., sigmoid) and model architecture modification. Note that too many layers can do you no good due to insufficient training data. Clearly describe your method and accuracy increase/decrease for each of the three techniques."
      ]
    },
    {
      "cell_type": "code",
      "metadata": {
        "id": "PrODND1c1mFY",
        "colab_type": "code",
        "colab": {}
      },
      "source": [
        "import torch\n",
        "torch.cuda.current_device()\n",
        "d=torch.device('cuda:0')"
      ],
      "execution_count": 0,
      "outputs": []
    },
    {
      "cell_type": "code",
      "metadata": {
        "id": "clXaGdwaoIL7",
        "colab_type": "code",
        "outputId": "b51fd542-2b32-459a-e127-794926074d52",
        "colab": {
          "base_uri": "https://localhost:8080/",
          "height": 272
        }
      },
      "source": [
        "# ==========================================\n",
        "#       Define Network Architecture\n",
        "# ==========================================\n",
        "#Reference :https://adventuresinmachinelearning.com/convolutional-neural-networks-tutorial-in-pytorch/\n",
        "#Reference :https://adventuresinmachinelearning.com/pytorch-tutorial-deep-learning/\n",
        "\n",
        "class Netw(nn.Module):\n",
        "  def __init__(self):\n",
        "    super(Netw,self).__init__()\n",
        "    self.layer_1=nn.Sequential(nn.Conv2d(in_channels=1, out_channels=32, kernel_size=5,padding=2,stride=1),nn.ReLU(),nn.MaxPool2d(kernel_size=2, stride=2))\n",
        "    self.dropout=nn.Dropout2d()\n",
        "    self.layer_2=nn.Sequential(nn.Conv2d(in_channels=32, out_channels=64, kernel_size=5,padding=2,stride=1),nn.ReLU(),nn.MaxPool2d(kernel_size=2, stride=2))\n",
        "    \n",
        "    self.f1=nn.Linear(16*16*64,1000)\n",
        "    self.f2=nn.Linear(1000,16)\n",
        "    \n",
        "    \n",
        "  def forward(self,inp):\n",
        "    output=self.layer_1(inp)\n",
        "    output=self.layer_2(output)\n",
        "    #print (output.shape)\n",
        "    n=output.size(0)\n",
        "    output = output.reshape(n, -1)\n",
        "    output=self.dropout(output)\n",
        "    output=self.f1(output)\n",
        "    output=self.f2(output)\n",
        "    #print (\"A:\",output.shape)\n",
        "    return output\n",
        "    \n",
        "net_call=Netw()\n",
        "print (net_call)"
      ],
      "execution_count": 8,
      "outputs": [
        {
          "output_type": "stream",
          "text": [
            "Netw(\n",
            "  (layer_1): Sequential(\n",
            "    (0): Conv2d(1, 32, kernel_size=(5, 5), stride=(1, 1), padding=(2, 2))\n",
            "    (1): ReLU()\n",
            "    (2): MaxPool2d(kernel_size=2, stride=2, padding=0, dilation=1, ceil_mode=False)\n",
            "  )\n",
            "  (dropout): Dropout2d(p=0.5, inplace=False)\n",
            "  (layer_2): Sequential(\n",
            "    (0): Conv2d(32, 64, kernel_size=(5, 5), stride=(1, 1), padding=(2, 2))\n",
            "    (1): ReLU()\n",
            "    (2): MaxPool2d(kernel_size=2, stride=2, padding=0, dilation=1, ceil_mode=False)\n",
            "  )\n",
            "  (f1): Linear(in_features=16384, out_features=1000, bias=True)\n",
            "  (f2): Linear(in_features=1000, out_features=16, bias=True)\n",
            ")\n"
          ],
          "name": "stdout"
        }
      ]
    },
    {
      "cell_type": "code",
      "metadata": {
        "id": "sNJTDG8xoJwH",
        "colab_type": "code",
        "outputId": "ce86a5fa-91c8-4bcd-8173-c1313816b40c",
        "colab": {
          "base_uri": "https://localhost:8080/",
          "height": 289
        }
      },
      "source": [
        "# ==========================================\n",
        "#         Optimize/Train Network\n",
        "# ==========================================\n",
        "import torch.optim as opti\n",
        "opt = opti.SGD(net_call.parameters(), lr=0.001, momentum=0.9)\n",
        "crit = nn.CrossEntropyLoss()\n",
        "epochs=15\n",
        "#batch size=50\n",
        "t1=time.time()\n",
        "net_call.to(d)\n",
        "for x in range(epochs):\n",
        "    \n",
        "  for i,data in enumerate(trainloader_small):\n",
        "    images,labels=data\n",
        "    images=images.to(d,dtype=torch.float)\n",
        "    labels=labels.to(d,dtype=torch.long)\n",
        "    output=net_call(images.float())\n",
        "    \n",
        "    loss=crit(output,labels)\n",
        "    opt.zero_grad()\n",
        "    loss.backward()\n",
        "    opt.step()\n",
        "    \n",
        "    tot = labels.size(0)\n",
        "    a, pred = torch.max(output.data, 1)\n",
        "    corr = (pred == labels).sum().item()\n",
        "\n",
        "    if (i + 1) % 50 == 0:\n",
        "      print('Epoch [{}/{}], Loss: {:.4f}, Accuracy: {:.2f}%'.format(x + 1, epochs, loss.item(),(corr / tot) * 100))\n",
        "t2=time.time()\n",
        "print('Training done in {:.0f}m {:.0f}s'.format((t2-t1) // 60, (t2-t1) % 60))"
      ],
      "execution_count": 9,
      "outputs": [
        {
          "output_type": "stream",
          "text": [
            "Epoch [1/15], Loss: 2.7690, Accuracy: 8.00%\n",
            "Epoch [2/15], Loss: 2.7345, Accuracy: 6.00%\n",
            "Epoch [3/15], Loss: 2.5978, Accuracy: 14.00%\n",
            "Epoch [4/15], Loss: 2.4490, Accuracy: 24.00%\n",
            "Epoch [5/15], Loss: 2.4320, Accuracy: 18.00%\n",
            "Epoch [6/15], Loss: 2.2639, Accuracy: 26.00%\n",
            "Epoch [7/15], Loss: 2.1548, Accuracy: 32.00%\n",
            "Epoch [8/15], Loss: 2.0511, Accuracy: 42.00%\n",
            "Epoch [9/15], Loss: 1.9019, Accuracy: 36.00%\n",
            "Epoch [10/15], Loss: 1.8786, Accuracy: 38.00%\n",
            "Epoch [11/15], Loss: 1.8203, Accuracy: 48.00%\n",
            "Epoch [12/15], Loss: 1.6474, Accuracy: 48.00%\n",
            "Epoch [13/15], Loss: 1.5400, Accuracy: 60.00%\n",
            "Epoch [14/15], Loss: 1.4324, Accuracy: 52.00%\n",
            "Epoch [15/15], Loss: 1.4861, Accuracy: 54.00%\n",
            "Training done in 0m 54s\n"
          ],
          "name": "stdout"
        }
      ]
    },
    {
      "cell_type": "code",
      "metadata": {
        "id": "m5sadf8qoOW6",
        "colab_type": "code",
        "outputId": "93b93b38-0823-4f41-9c14-f456a8b5c984",
        "colab": {
          "base_uri": "https://localhost:8080/",
          "height": 51
        }
      },
      "source": [
        "# ==========================================\n",
        "#            Evaluating Network\n",
        "# ==========================================\n",
        "\n",
        "\n",
        "t1=time.time()\n",
        "  \n",
        "with torch.no_grad():\n",
        "  corr = 0\n",
        "  tot = 0\n",
        "  for images, labels in testloader_small:\n",
        "    images=images.to(d,dtype=torch.float)\n",
        "    labels=labels.to(d,dtype=torch.long)\n",
        "    output = net_call(images.float())\n",
        "\n",
        "    a, pred = torch.max(output.data, 1)\n",
        "    tot += labels.size(0)\n",
        "    corr += (pred == labels).sum().item()\n",
        "\n",
        "  print('Test Accuracy of the model on the 1500 test images: {} %'.format((corr / tot) * 100))\n",
        "  \n",
        "t2=time.time()\n",
        "print('Testing done in {:.0f}m {:.0f}s'.format((t2-t1) // 60, (t2-t1) % 60))"
      ],
      "execution_count": 12,
      "outputs": [
        {
          "output_type": "stream",
          "text": [
            "Test Accuracy of the model on the 1500 test images: 51.5 %\n",
            "Testing done in 0m 0s\n"
          ],
          "name": "stdout"
        }
      ]
    },
    {
      "cell_type": "code",
      "metadata": {
        "id": "EUlC3xVL6pco",
        "colab_type": "code",
        "outputId": "35e1986b-0b18-4763-cfab-af51a90233c9",
        "colab": {
          "base_uri": "https://localhost:8080/",
          "height": 272
        }
      },
      "source": [
        "#Technique 1: Activation Function is Tanh\n",
        "\n",
        "class Netw_tanh(nn.Module):\n",
        "  def __init__(self):\n",
        "    super(Netw_tanh,self).__init__()\n",
        "    self.layer_1=nn.Sequential(nn.Conv2d(in_channels=1, out_channels=32, kernel_size=5,padding=2,stride=1),nn.ReLU(),nn.MaxPool2d(kernel_size=2, stride=2))\n",
        "    self.dropout=nn.Dropout2d()\n",
        "    self.layer_2=nn.Sequential(nn.Conv2d(in_channels=32, out_channels=64, kernel_size=5,padding=2,stride=1),nn.Tanh(),nn.MaxPool2d(kernel_size=2, stride=2))\n",
        "    \n",
        "\n",
        "    self.f1=nn.Linear(16*16*64,1000)\n",
        "    self.f2=nn.Linear(1000,16)\n",
        "    \n",
        "    \n",
        "  def forward(self,inp):\n",
        "    output=self.layer_1(inp)\n",
        "    output=self.layer_2(output)\n",
        "    n=output.size(0)\n",
        "    output = output.reshape(n, -1)\n",
        "    output=self.dropout(output)\n",
        "    output=self.f1(output)\n",
        "    output=self.f2(output)\n",
        "    return output\n",
        "    \n",
        "net_call1=Netw_tanh()\n",
        "print (net_call1)"
      ],
      "execution_count": 13,
      "outputs": [
        {
          "output_type": "stream",
          "text": [
            "Netw_tanh(\n",
            "  (layer_1): Sequential(\n",
            "    (0): Conv2d(1, 32, kernel_size=(5, 5), stride=(1, 1), padding=(2, 2))\n",
            "    (1): ReLU()\n",
            "    (2): MaxPool2d(kernel_size=2, stride=2, padding=0, dilation=1, ceil_mode=False)\n",
            "  )\n",
            "  (dropout): Dropout2d(p=0.5, inplace=False)\n",
            "  (layer_2): Sequential(\n",
            "    (0): Conv2d(32, 64, kernel_size=(5, 5), stride=(1, 1), padding=(2, 2))\n",
            "    (1): Tanh()\n",
            "    (2): MaxPool2d(kernel_size=2, stride=2, padding=0, dilation=1, ceil_mode=False)\n",
            "  )\n",
            "  (f1): Linear(in_features=16384, out_features=1000, bias=True)\n",
            "  (f2): Linear(in_features=1000, out_features=16, bias=True)\n",
            ")\n"
          ],
          "name": "stdout"
        }
      ]
    },
    {
      "cell_type": "code",
      "metadata": {
        "id": "25mp6_XZ7bOs",
        "colab_type": "code",
        "outputId": "feafbc7b-2950-4d4b-c036-93be6d591fc7",
        "colab": {
          "base_uri": "https://localhost:8080/",
          "height": 289
        }
      },
      "source": [
        "import torch.optim as opti\n",
        "\n",
        "opt = opti.SGD(net_call1.parameters(), lr=0.001, momentum=0.9)\n",
        "crit = nn.CrossEntropyLoss()\n",
        "net_call1.to(d)\n",
        "epochs=15\n",
        "#batch size=50\n",
        "t1=time.time()\n",
        "for x in range(epochs):\n",
        "    \n",
        "  for i,data in enumerate(trainloader_small):\n",
        "    images,labels=data\n",
        "    images=images.to(d,dtype=torch.float)\n",
        "    labels=labels.to(d,dtype=torch.long)\n",
        "    output=net_call1(images.float())\n",
        "    \n",
        "    loss=crit(output,labels)\n",
        "    opt.zero_grad()\n",
        "    loss.backward()\n",
        "    opt.step()\n",
        "    \n",
        "    tot = labels.size(0)\n",
        "    a, pred = torch.max(output.data, 1)\n",
        "    corr = (pred == labels).sum().item()\n",
        "\n",
        "    if (i + 1) % 50 == 0:\n",
        "      print('Epoch [{}/{}], Loss: {:.4f}, Accuracy: {:.2f}%'.format(x + 1, epochs, loss.item(),(corr / tot) * 100))\n",
        "      \n",
        "t2=time.time()\n",
        "print('Training done in {:.0f}m {:.0f}s'.format((t2-t1) // 60, (t2-t1) % 60))"
      ],
      "execution_count": 14,
      "outputs": [
        {
          "output_type": "stream",
          "text": [
            "Epoch [1/15], Loss: 2.7556, Accuracy: 8.00%\n",
            "Epoch [2/15], Loss: 2.7188, Accuracy: 8.00%\n",
            "Epoch [3/15], Loss: 2.5987, Accuracy: 12.00%\n",
            "Epoch [4/15], Loss: 2.4862, Accuracy: 22.00%\n",
            "Epoch [5/15], Loss: 2.3861, Accuracy: 26.00%\n",
            "Epoch [6/15], Loss: 2.2987, Accuracy: 30.00%\n",
            "Epoch [7/15], Loss: 2.2931, Accuracy: 32.00%\n",
            "Epoch [8/15], Loss: 2.1955, Accuracy: 32.00%\n",
            "Epoch [9/15], Loss: 2.0865, Accuracy: 40.00%\n",
            "Epoch [10/15], Loss: 2.0537, Accuracy: 34.00%\n",
            "Epoch [11/15], Loss: 1.9218, Accuracy: 42.00%\n",
            "Epoch [12/15], Loss: 1.9106, Accuracy: 36.00%\n",
            "Epoch [13/15], Loss: 1.7805, Accuracy: 46.00%\n",
            "Epoch [14/15], Loss: 1.7072, Accuracy: 48.00%\n",
            "Epoch [15/15], Loss: 1.6746, Accuracy: 42.00%\n",
            "Training done in 0m 52s\n"
          ],
          "name": "stdout"
        }
      ]
    },
    {
      "cell_type": "code",
      "metadata": {
        "id": "B5xwWYEc7cKj",
        "colab_type": "code",
        "outputId": "208e6276-1305-4cae-b99a-72316a41dbb2",
        "colab": {
          "base_uri": "https://localhost:8080/",
          "height": 51
        }
      },
      "source": [
        "t1=time.time()\n",
        "\n",
        "with torch.no_grad():\n",
        "  corr = 0\n",
        "  tot = 0\n",
        "  for images, labels in testloader_small:\n",
        "    images=images.to(d,dtype=torch.float)\n",
        "    labels=labels.to(d,dtype=torch.long)\n",
        "    output = net_call1(images.float())\n",
        "    a, pred = torch.max(output.data, 1)\n",
        "    tot += labels.size(0)\n",
        "    corr += (pred == labels).sum().item()\n",
        "\n",
        "  print('Test Accuracy of the model on the 1500 test images: {} %'.format((corr / tot) * 100))\n",
        "  \n",
        "t2=time.time()\n",
        "print('Testing done in {:.0f}m {:.0f}s'.format((t2-t1) // 60, (t2-t1) % 60))"
      ],
      "execution_count": 25,
      "outputs": [
        {
          "output_type": "stream",
          "text": [
            "Test Accuracy of the model on the 1500 test images: 52.0 %\n",
            "Testing done in 0m 0s\n"
          ],
          "name": "stdout"
        }
      ]
    },
    {
      "cell_type": "code",
      "metadata": {
        "id": "jqJXLQw3DK-9",
        "colab_type": "code",
        "outputId": "b55f3048-7012-4815-e3de-2a1c6578cd00",
        "colab": {
          "base_uri": "https://localhost:8080/",
          "height": 289
        }
      },
      "source": [
        "#Technique 2: Batch Normalization\n",
        "class Netw_bat(nn.Module):\n",
        "  def __init__(self):\n",
        "    super(Netw_bat,self).__init__()\n",
        "    self.layer_1=nn.Sequential(nn.Conv2d(in_channels=1, out_channels=32, kernel_size=5,padding=2,stride=1),nn.ReLU(),nn.MaxPool2d(kernel_size=2, stride=2))\n",
        "    self.dropout=nn.Dropout2d()\n",
        "    self.layer_2=nn.Sequential(nn.Conv2d(in_channels=32, out_channels=64, kernel_size=5,padding=2,stride=1),nn.ReLU(),nn.MaxPool2d(kernel_size=2, stride=2))\n",
        "    \n",
        "\n",
        "    self.f1=nn.Linear(16*16*64,1000)\n",
        "    self.f1_bn = nn.BatchNorm1d(16*16*64)\n",
        "    self.f3=nn.Linear(1000,16)\n",
        "    \n",
        "    \n",
        "  def forward(self,inp):\n",
        "    output=self.layer_1(inp)\n",
        "    output=self.layer_2(output)\n",
        "    n=output.size(0)\n",
        "    output = output.reshape(n, -1)\n",
        "    output=self.dropout(output)\n",
        "    output=self.f1_bn(output) \n",
        "    output=self.f1(output)\n",
        "    output=self.f3(output)\n",
        "    return output\n",
        "    \n",
        "net_call12=Netw_bat()\n",
        "print (net_call12)"
      ],
      "execution_count": 81,
      "outputs": [
        {
          "output_type": "stream",
          "text": [
            "Netw_bat(\n",
            "  (layer_1): Sequential(\n",
            "    (0): Conv2d(1, 32, kernel_size=(5, 5), stride=(1, 1), padding=(2, 2))\n",
            "    (1): ReLU()\n",
            "    (2): MaxPool2d(kernel_size=2, stride=2, padding=0, dilation=1, ceil_mode=False)\n",
            "  )\n",
            "  (dropout): Dropout2d(p=0.5, inplace=False)\n",
            "  (layer_2): Sequential(\n",
            "    (0): Conv2d(32, 64, kernel_size=(5, 5), stride=(1, 1), padding=(2, 2))\n",
            "    (1): ReLU()\n",
            "    (2): MaxPool2d(kernel_size=2, stride=2, padding=0, dilation=1, ceil_mode=False)\n",
            "  )\n",
            "  (f1): Linear(in_features=16384, out_features=1000, bias=True)\n",
            "  (f1_bn): BatchNorm1d(16384, eps=1e-05, momentum=0.1, affine=True, track_running_stats=True)\n",
            "  (f3): Linear(in_features=1000, out_features=16, bias=True)\n",
            ")\n"
          ],
          "name": "stdout"
        }
      ]
    },
    {
      "cell_type": "code",
      "metadata": {
        "id": "flan_g59F54g",
        "colab_type": "code",
        "outputId": "98c21c98-95e5-491b-b036-373a97544ccb",
        "colab": {
          "base_uri": "https://localhost:8080/",
          "height": 289
        }
      },
      "source": [
        "import torch.optim as opti\n",
        "\n",
        "opt = opti.SGD(net_call12.parameters(), lr=0.001, momentum=0.9)\n",
        "crit = nn.CrossEntropyLoss()\n",
        "net_call12.to(d)\n",
        "epochs=15\n",
        "#batch size=50\n",
        "t1=time.time()\n",
        "for x in range(epochs):\n",
        "    \n",
        "  for i,data in enumerate(trainloader_small):\n",
        "    images,labels=data\n",
        "    images=images.to(d,dtype=torch.float)\n",
        "    labels=labels.to(d,dtype=torch.long)\n",
        "    output=net_call12(images.float())\n",
        "    \n",
        "    loss=crit(output,labels)\n",
        "    opt.zero_grad()\n",
        "    loss.backward()\n",
        "    opt.step()\n",
        "    \n",
        "    tot = labels.size(0)\n",
        "    a, pred = torch.max(output.data, 1)\n",
        "    corr = (pred == labels).sum().item()\n",
        "\n",
        "    if (i + 1) % 50 == 0:\n",
        "      print('Epoch [{}/{}], Loss: {:.4f}, Accuracy: {:.2f}%'.format(x + 1, epochs, loss.item(),(corr / tot) * 100))\n",
        "      \n",
        "t2=time.time()\n",
        "print('Training done in {:.0f}m {:.0f}s'.format((t2-t1) // 60, (t2-t1) % 60))"
      ],
      "execution_count": 82,
      "outputs": [
        {
          "output_type": "stream",
          "text": [
            "Epoch [1/15], Loss: 2.4143, Accuracy: 16.00%\n",
            "Epoch [2/15], Loss: 2.1014, Accuracy: 36.00%\n",
            "Epoch [3/15], Loss: 1.8741, Accuracy: 34.00%\n",
            "Epoch [4/15], Loss: 1.6172, Accuracy: 48.00%\n",
            "Epoch [5/15], Loss: 1.3933, Accuracy: 54.00%\n",
            "Epoch [6/15], Loss: 1.1526, Accuracy: 60.00%\n",
            "Epoch [7/15], Loss: 0.9195, Accuracy: 68.00%\n",
            "Epoch [8/15], Loss: 0.7893, Accuracy: 82.00%\n",
            "Epoch [9/15], Loss: 0.5876, Accuracy: 86.00%\n",
            "Epoch [10/15], Loss: 0.6185, Accuracy: 78.00%\n",
            "Epoch [11/15], Loss: 0.4884, Accuracy: 84.00%\n",
            "Epoch [12/15], Loss: 0.3683, Accuracy: 88.00%\n",
            "Epoch [13/15], Loss: 0.3132, Accuracy: 92.00%\n",
            "Epoch [14/15], Loss: 0.3251, Accuracy: 94.00%\n",
            "Epoch [15/15], Loss: 0.2216, Accuracy: 98.00%\n",
            "Training done in 0m 50s\n"
          ],
          "name": "stdout"
        }
      ]
    },
    {
      "cell_type": "code",
      "metadata": {
        "id": "fH_mkaDXF7zb",
        "colab_type": "code",
        "outputId": "d9cdb3c4-091c-47d0-e012-473d9c174b71",
        "colab": {
          "base_uri": "https://localhost:8080/",
          "height": 51
        }
      },
      "source": [
        "t1=time.time()\n",
        "\n",
        "with torch.no_grad():\n",
        "  corr = 0\n",
        "  tot = 0\n",
        "  for images, labels in testloader_small:\n",
        "    images=images.to(d,dtype=torch.float)\n",
        "    labels=labels.to(d,dtype=torch.long)\n",
        "    output = net_call12(images.float())\n",
        "    a, pred = torch.max(output.data, 1)\n",
        "    tot += labels.size(0)\n",
        "    corr += (pred == labels).sum().item()\n",
        "\n",
        "  print('Test Accuracy of the model on the 1500 test images: {} %'.format((corr / tot) * 100))\n",
        "  \n",
        "t2=time.time()\n",
        "print('Testing done in {:.0f}m {:.0f}s'.format((t2-t1) // 60, (t2-t1) % 60))"
      ],
      "execution_count": 87,
      "outputs": [
        {
          "output_type": "stream",
          "text": [
            "Test Accuracy of the model on the 1500 test images: 41.0 %\n",
            "Testing done in 0m 0s\n"
          ],
          "name": "stdout"
        }
      ]
    },
    {
      "cell_type": "code",
      "metadata": {
        "id": "oSCSKT4475Nt",
        "colab_type": "code",
        "outputId": "70c4fd05-fb48-487c-ad3b-a034272fa177",
        "colab": {
          "base_uri": "https://localhost:8080/",
          "height": 697
        }
      },
      "source": [
        "#Technique 3: Image Rotation\n",
        "\n",
        "\n",
        "img_size = (64, 64)\n",
        "batch_num = 50 # training sample number per batch\n",
        "\n",
        "# load training dataset\n",
        "trainloader_small = list(load_dataset('./data/train/', img_size, batch_num=batch_num, shuffle=True, \n",
        "                                      augment=False, rotate_90=True))\n",
        "train_num = len(trainloader_small)\n",
        "print(\"Finish loading %d minibatches(=%d) of training samples.\" % (train_num, batch_num))\n",
        "\n",
        "# load testing dataset\n",
        "testloader_small = list(load_dataset('./data/test/', img_size, num_per_class=50, batch_num=batch_num))\n",
        "test_num = len(testloader_small)\n",
        "print(\"Finish loading %d minibatches(=%d) of testing samples.\" % (test_num, batch_num))"
      ],
      "execution_count": 88,
      "outputs": [
        {
          "output_type": "stream",
          "text": [
            "Loading images from class: 0\n",
            "Loading images from class: 1\n",
            "Loading images from class: 2\n",
            "Loading images from class: 3\n",
            "Loading images from class: 4\n",
            "Loading images from class: 5\n",
            "Loading images from class: 6\n",
            "Loading images from class: 7\n",
            "Loading images from class: 8\n",
            "Loading images from class: 9\n",
            "Loading images from class: 10\n",
            "Loading images from class: 11\n",
            "Loading images from class: 12\n",
            "Loading images from class: 13\n",
            "Loading images from class: 14\n",
            "Loading images from class: 15\n",
            "Loading images from class: 16\n",
            "4802\n",
            "50\n",
            "Finish loading 96 minibatches(=50) of training samples.\n",
            "Loading images from class: 0\n",
            "Loading images from class: 1\n",
            "Loading images from class: 2\n",
            "Loading images from class: 3\n",
            "Loading images from class: 4\n",
            "Loading images from class: 5\n",
            "Loading images from class: 6\n",
            "Loading images from class: 7\n",
            "Loading images from class: 8\n",
            "Loading images from class: 9\n",
            "Loading images from class: 10\n",
            "Loading images from class: 11\n",
            "Loading images from class: 12\n",
            "Loading images from class: 13\n",
            "Loading images from class: 14\n",
            "Loading images from class: 15\n",
            "Loading images from class: 16\n",
            "400\n",
            "50\n",
            "Finish loading 8 minibatches(=50) of testing samples.\n"
          ],
          "name": "stdout"
        }
      ]
    },
    {
      "cell_type": "code",
      "metadata": {
        "id": "BNrHElM_GK01",
        "colab_type": "code",
        "outputId": "1815e491-7567-49b7-e9f3-054f72373b51",
        "colab": {
          "base_uri": "https://localhost:8080/",
          "height": 272
        }
      },
      "source": [
        "class Netw_rot(nn.Module):\n",
        "  def __init__(self):\n",
        "    super(Netw_rot,self).__init__()\n",
        "    self.layer_1=nn.Sequential(nn.Conv2d(in_channels=1, out_channels=32, kernel_size=5,padding=2,stride=1),nn.ReLU(),nn.MaxPool2d(kernel_size=2, stride=2))\n",
        "    self.dropout=nn.Dropout2d()\n",
        "    self.layer_2=nn.Sequential(nn.Conv2d(in_channels=32, out_channels=64, kernel_size=5,padding=2,stride=1),nn.ReLU(),nn.MaxPool2d(kernel_size=2, stride=2))\n",
        "    \n",
        "    self.f1=nn.Linear(16*16*64,1000)\n",
        "    self.f2=nn.Linear(1000,16)\n",
        "    \n",
        "    \n",
        "  def forward(self,inp):\n",
        "    output=self.layer_1(inp)\n",
        "    output=self.layer_2(output)\n",
        "    n=output.size(0)\n",
        "    output = output.reshape(n, -1)\n",
        "    output=self.dropout(output)\n",
        "    output=self.f1(output)\n",
        "    output=self.f2(output)\n",
        "    return output\n",
        "    \n",
        "net_call13=Netw_rot()\n",
        "print (net_call13)"
      ],
      "execution_count": 89,
      "outputs": [
        {
          "output_type": "stream",
          "text": [
            "Netw_rot(\n",
            "  (layer_1): Sequential(\n",
            "    (0): Conv2d(1, 32, kernel_size=(5, 5), stride=(1, 1), padding=(2, 2))\n",
            "    (1): ReLU()\n",
            "    (2): MaxPool2d(kernel_size=2, stride=2, padding=0, dilation=1, ceil_mode=False)\n",
            "  )\n",
            "  (dropout): Dropout2d(p=0.5, inplace=False)\n",
            "  (layer_2): Sequential(\n",
            "    (0): Conv2d(32, 64, kernel_size=(5, 5), stride=(1, 1), padding=(2, 2))\n",
            "    (1): ReLU()\n",
            "    (2): MaxPool2d(kernel_size=2, stride=2, padding=0, dilation=1, ceil_mode=False)\n",
            "  )\n",
            "  (f1): Linear(in_features=16384, out_features=1000, bias=True)\n",
            "  (f2): Linear(in_features=1000, out_features=16, bias=True)\n",
            ")\n"
          ],
          "name": "stdout"
        }
      ]
    },
    {
      "cell_type": "code",
      "metadata": {
        "id": "juQFzEOcGVB4",
        "colab_type": "code",
        "outputId": "826c5a5f-b87d-48a3-95d5-f38bbd1010c0",
        "colab": {
          "base_uri": "https://localhost:8080/",
          "height": 289
        }
      },
      "source": [
        "import torch.optim as opti\n",
        "\n",
        "opt = opti.SGD(net_call13.parameters(), lr=0.001, momentum=0.9)\n",
        "crit = nn.CrossEntropyLoss()\n",
        "epochs=15\n",
        "net_call13.to(d)\n",
        "#batch size=50\n",
        "t1=time.time()\n",
        "for x in range(epochs):\n",
        "    \n",
        "  for i,data in enumerate(trainloader_small):\n",
        "    images,labels=data\n",
        "    images=images.to(d,dtype=torch.float)\n",
        "    labels=labels.to(d,dtype=torch.long)\n",
        "    output=net_call13(images.float())\n",
        "    \n",
        "    loss=crit(output,labels)\n",
        "    opt.zero_grad()\n",
        "    loss.backward()\n",
        "    opt.step()\n",
        "    \n",
        "    tot = labels.size(0)\n",
        "    a, pred = torch.max(output.data, 1)\n",
        "    corr = (pred == labels).sum().item()\n",
        "\n",
        "    if (i + 1) % 50 == 0:\n",
        "      print('Epoch [{}/{}], Loss: {:.4f}, Accuracy: {:.2f}%'.format(x + 1, epochs, loss.item(),(corr / tot) * 100))\n",
        "t2=time.time()\n",
        "print('Training done in {:.0f}m {:.0f}s'.format((t2-t1) // 60, (t2-t1) % 60))"
      ],
      "execution_count": 94,
      "outputs": [
        {
          "output_type": "stream",
          "text": [
            "Epoch [1/15], Loss: 1.5746, Accuracy: 52.00%\n",
            "Epoch [2/15], Loss: 1.5047, Accuracy: 50.00%\n",
            "Epoch [3/15], Loss: 1.3927, Accuracy: 50.00%\n",
            "Epoch [4/15], Loss: 1.3025, Accuracy: 52.00%\n",
            "Epoch [5/15], Loss: 1.3157, Accuracy: 62.00%\n",
            "Epoch [6/15], Loss: 1.2711, Accuracy: 60.00%\n",
            "Epoch [7/15], Loss: 1.0823, Accuracy: 68.00%\n",
            "Epoch [8/15], Loss: 1.1938, Accuracy: 64.00%\n",
            "Epoch [9/15], Loss: 1.0593, Accuracy: 60.00%\n",
            "Epoch [10/15], Loss: 0.9037, Accuracy: 72.00%\n",
            "Epoch [11/15], Loss: 0.9102, Accuracy: 74.00%\n",
            "Epoch [12/15], Loss: 1.0536, Accuracy: 70.00%\n",
            "Epoch [13/15], Loss: 0.9648, Accuracy: 72.00%\n",
            "Epoch [14/15], Loss: 0.9739, Accuracy: 68.00%\n",
            "Epoch [15/15], Loss: 0.9171, Accuracy: 64.00%\n",
            "Training done in 0m 52s\n"
          ],
          "name": "stdout"
        }
      ]
    },
    {
      "cell_type": "code",
      "metadata": {
        "id": "fj0kDlN6GaTd",
        "colab_type": "code",
        "outputId": "b45ae619-5dfd-4f48-803f-7db261be4694",
        "colab": {
          "base_uri": "https://localhost:8080/",
          "height": 51
        }
      },
      "source": [
        "t1=time.time()\n",
        "  \n",
        "with torch.no_grad():\n",
        "  corr = 0\n",
        "  tot = 0\n",
        "  for images, labels in testloader_small:\n",
        "    images=images.to(d,dtype=torch.float)\n",
        "    labels=labels.to(d,dtype=torch.long)\n",
        "    output = net_call13(images.float())\n",
        "    a, pred = torch.max(output.data, 1)\n",
        "    tot += labels.size(0)\n",
        "    corr += (pred == labels).sum().item()\n",
        "\n",
        "  print('Test Accuracy of the model on the 1500 test images: {} %'.format((corr / tot) * 100))\n",
        "  \n",
        "t2=time.time()\n",
        "print('Testing done in {:.0f}m {:.0f}s'.format((t2-t1) // 60, (t2-t1) % 60))"
      ],
      "execution_count": 98,
      "outputs": [
        {
          "output_type": "stream",
          "text": [
            "Test Accuracy of the model on the 1500 test images: 44.0 %\n",
            "Testing done in 0m 0s\n"
          ],
          "name": "stdout"
        }
      ]
    },
    {
      "cell_type": "markdown",
      "metadata": {
        "collapsed": true,
        "id": "nBHKIxzAYYM2",
        "colab_type": "text"
      },
      "source": [
        "## Problem 2: Fine Tuning a Pre-Trained Deep Network\n",
        "{Part 1: 30 points} Our convolutional network to this point isn't \"deep\". Fortunately, the representations learned by deep convolutional networks is that they generalize surprisingly well to other recognition tasks. \n",
        "\n",
        "But how do we use an existing deep network for a new recognition task? Take for instance,  [AlexNet](http://papers.nips.cc/paper/4824-imagenet-classification-with-deep-convolutional-neural-networks) network has 1000 units in the final layer corresponding to 1000 ImageNet categories.\n",
        "\n",
        "**Strategy A**: One could use those 1000 activations as a feature in place of a hand crafted feature such as a bag-of-features representation. You would train a classifier (typically a linear SVM) in that 1000 dimensional feature space. However, those activations are clearly very object specific and may not generalize well to new recognition tasks. It is generally better to use the activations in slightly earlier layers of the network, e.g. the 4096 activations in the last 2nd fully-connected layer. You can often get away with sub-sampling those 4096 activations considerably, e.g. taking only the first 200 activations. \n",
        "\n",
        "**Strategy B**: *Fine-tune* an existing network. In this scenario you take an existing network, replace the final layer (or more) with random weights, and train the entire network again with images and ground truth labels for your recognition task. You are effectively treating the pre-trained deep network as a better initialization than the random weights used when training from scratch. When you don't have enough training data to train a complex network from scratch (e.g. with the 16 classes) this is an attractive option. Fine-tuning can work far better than Strategy A of taking the activations directly from an pre-trained CNN. For example, in [this paper](http://www.cc.gatech.edu/~hays/papers/deep_geo.pdf) from CVPR 2015, there wasn't enough data to train a deep network from scratch, but fine tuning led to 4 times higher accuracy than using off-the-shelf networks directly.\n",
        "\n",
        "You are required to implement **Strategy B** to fine-tune a pre-trained **AlexNet** for this scene classification task. You should be able to achieve performance of 85% approximately. It takes roughly 35~40 minutes to train 20 epoches with AlexNet.\n",
        "\n",
        "Please provide detailed descriptions of:<br>\n",
        "(1) which layers of AlexNet have been replaced<br>\n",
        "(2) the architecture of the new layers added including activation methods (same as problem 1)<br>\n",
        "(3) the final accuracy on test set along with time consumption for both training and testing <br>\n",
        "\n",
        "{Part 2: 20 points} Implement Strategy A where you use the activations of the pre-trained network as features to train one-vs-all SVMs for your scene classification task. Report the final accuracy on test set along with time consumption for both training and testing.\n",
        "\n",
        "{Bonus: 10 points} Bonus will be given to those who fine-tune the [VGG network](https://pytorch.org/docs/stable/_modules/torchvision/models/vgg.html) [paper](https://arxiv.org/pdf/1409.1556.pdf) and compare performance with AlexNet. Explain why VGG performed better or worse.\n",
        "\n",
        "**Hints**:\n",
        "- Many pre-trained models are available in PyTorch at [here](http://pytorch.org/docs/master/torchvision/models.html).\n",
        "- For fine-tuning pretrained network using PyTorch, please read this [tutorial](http://pytorch.org/tutorials/beginner/transfer_learning_tutorial.html)."
      ]
    },
    {
      "cell_type": "code",
      "metadata": {
        "id": "VLG3WtEmYYM3",
        "colab_type": "code",
        "outputId": "b7663a20-88ee-485e-fb5e-834435c3fdd1",
        "colab": {
          "base_uri": "https://localhost:8080/",
          "height": 697
        }
      },
      "source": [
        "# reload data with a larger size\n",
        "img_size = (224, 224)\n",
        "batch_num = 50 # training sample number per batch \n",
        "\n",
        "# load training dataset\n",
        "trainloader_large = list(load_dataset('./data/train/', img_size, batch_num=batch_num, shuffle=True, \n",
        "                                      augment=False, is_color=True, zero_centered=True))\n",
        "train_num = len(trainloader_large)\n",
        "print(\"Finish loading %d minibatches(=%d) of training samples.\" % (train_num, batch_num))\n",
        "\n",
        "# load testing dataset\n",
        "testloader_large = list(load_dataset('./data/test/', img_size, num_per_class=50, batch_num=batch_num, is_color=True))\n",
        "test_num = len(testloader_large)\n",
        "print(\"Finish loading %d minibatches(=%d) of testing samples.\" % (test_num, batch_num))"
      ],
      "execution_count": 42,
      "outputs": [
        {
          "output_type": "stream",
          "text": [
            "Loading images from class: 0\n",
            "Loading images from class: 1\n",
            "Loading images from class: 2\n",
            "Loading images from class: 3\n",
            "Loading images from class: 4\n",
            "Loading images from class: 5\n",
            "Loading images from class: 6\n",
            "Loading images from class: 7\n",
            "Loading images from class: 8\n",
            "Loading images from class: 9\n",
            "Loading images from class: 10\n",
            "Loading images from class: 11\n",
            "Loading images from class: 12\n",
            "Loading images from class: 13\n",
            "Loading images from class: 14\n",
            "Loading images from class: 15\n",
            "Loading images from class: 16\n",
            "2401\n",
            "50\n",
            "Finish loading 48 minibatches(=50) of training samples.\n",
            "Loading images from class: 0\n",
            "Loading images from class: 1\n",
            "Loading images from class: 2\n",
            "Loading images from class: 3\n",
            "Loading images from class: 4\n",
            "Loading images from class: 5\n",
            "Loading images from class: 6\n",
            "Loading images from class: 7\n",
            "Loading images from class: 8\n",
            "Loading images from class: 9\n",
            "Loading images from class: 10\n",
            "Loading images from class: 11\n",
            "Loading images from class: 12\n",
            "Loading images from class: 13\n",
            "Loading images from class: 14\n",
            "Loading images from class: 15\n",
            "Loading images from class: 16\n",
            "400\n",
            "50\n",
            "Finish loading 8 minibatches(=50) of testing samples.\n"
          ],
          "name": "stdout"
        }
      ]
    },
    {
      "cell_type": "code",
      "metadata": {
        "id": "btOal_ampEnm",
        "colab_type": "code",
        "outputId": "f38e7b34-e8ac-4735-a7a9-028ad7c22b0f",
        "colab": {
          "base_uri": "https://localhost:8080/",
          "height": 476
        }
      },
      "source": [
        "# ==========================================\n",
        "#       Fine-Tune Pretrained Network\n",
        "# ==========================================\n",
        "\n",
        "#PART A\n",
        "import torchvision.models as models\n",
        "import torch.optim as opti\n",
        "\n",
        "\n",
        "pre_train = models.alexnet(pretrained=True)\n",
        "\n",
        "n=pre_train.classifier[6].in_features\n",
        "feat = list(pre_train.classifier.children())[:-1]\n",
        "feat.extend([nn.Linear(n,16)])\n",
        "\n",
        "pre_train.classifier = nn.Sequential(*feat)\n",
        "\n",
        "opt = opti.SGD(pre_train.parameters(), lr=0.001, momentum=0.9)\n",
        "crit = nn.CrossEntropyLoss()\n",
        "\n",
        "\n",
        "print (pre_train)"
      ],
      "execution_count": 14,
      "outputs": [
        {
          "output_type": "stream",
          "text": [
            "AlexNet(\n",
            "  (features): Sequential(\n",
            "    (0): Conv2d(3, 64, kernel_size=(11, 11), stride=(4, 4), padding=(2, 2))\n",
            "    (1): ReLU(inplace=True)\n",
            "    (2): MaxPool2d(kernel_size=3, stride=2, padding=0, dilation=1, ceil_mode=False)\n",
            "    (3): Conv2d(64, 192, kernel_size=(5, 5), stride=(1, 1), padding=(2, 2))\n",
            "    (4): ReLU(inplace=True)\n",
            "    (5): MaxPool2d(kernel_size=3, stride=2, padding=0, dilation=1, ceil_mode=False)\n",
            "    (6): Conv2d(192, 384, kernel_size=(3, 3), stride=(1, 1), padding=(1, 1))\n",
            "    (7): ReLU(inplace=True)\n",
            "    (8): Conv2d(384, 256, kernel_size=(3, 3), stride=(1, 1), padding=(1, 1))\n",
            "    (9): ReLU(inplace=True)\n",
            "    (10): Conv2d(256, 256, kernel_size=(3, 3), stride=(1, 1), padding=(1, 1))\n",
            "    (11): ReLU(inplace=True)\n",
            "    (12): MaxPool2d(kernel_size=3, stride=2, padding=0, dilation=1, ceil_mode=False)\n",
            "  )\n",
            "  (avgpool): AdaptiveAvgPool2d(output_size=(6, 6))\n",
            "  (classifier): Sequential(\n",
            "    (0): Dropout(p=0.5, inplace=False)\n",
            "    (1): Linear(in_features=9216, out_features=4096, bias=True)\n",
            "    (2): ReLU(inplace=True)\n",
            "    (3): Dropout(p=0.5, inplace=False)\n",
            "    (4): Linear(in_features=4096, out_features=4096, bias=True)\n",
            "    (5): ReLU(inplace=True)\n",
            "    (6): Linear(in_features=4096, out_features=16, bias=True)\n",
            "  )\n",
            ")\n"
          ],
          "name": "stdout"
        }
      ]
    },
    {
      "cell_type": "code",
      "metadata": {
        "id": "FoI_q5G86_UD",
        "colab_type": "code",
        "outputId": "7e8f8219-a8ca-4df9-f8f1-0de02f09f0d5",
        "colab": {
          "base_uri": "https://localhost:8080/",
          "height": 374
        }
      },
      "source": [
        "epochs=20\n",
        "t1=time.time()\n",
        "pre_train.to(d)\n",
        "for x in range(epochs):\n",
        "    \n",
        "  for i,data in enumerate(trainloader_large):\n",
        "    images,labels=data\n",
        "    images=images.to(d,dtype=torch.float)\n",
        "    labels=labels.to(d,dtype=torch.long)\n",
        "    output=pre_train(images.float())\n",
        "    \n",
        "    loss=crit(output,labels)\n",
        "    opt.zero_grad()\n",
        "    loss.backward()\n",
        "    opt.step()\n",
        "    \n",
        "    tot = labels.size(0)\n",
        "    a, pred = torch.max(output.data, 1)\n",
        "    corr = (pred == labels).sum().item()\n",
        "\n",
        "    if (i + 1) % 30 == 0:\n",
        "      print('Epoch [{}/{}], Loss: {:.4f}, Accuracy: {:.2f}%'.format(x + 1, epochs, loss.item(),(corr / tot) * 100))\n",
        "      \n",
        "t2=time.time()\n",
        "print('Training done in {:.0f}m {:.0f}s'.format((t2-t1) // 60, (t2-t1) % 60))"
      ],
      "execution_count": 17,
      "outputs": [
        {
          "output_type": "stream",
          "text": [
            "Epoch [1/20], Loss: 0.6630, Accuracy: 76.00%\n",
            "Epoch [2/20], Loss: 0.4795, Accuracy: 80.00%\n",
            "Epoch [3/20], Loss: 0.3885, Accuracy: 84.00%\n",
            "Epoch [4/20], Loss: 0.2272, Accuracy: 92.00%\n",
            "Epoch [5/20], Loss: 0.2998, Accuracy: 92.00%\n",
            "Epoch [6/20], Loss: 0.1734, Accuracy: 96.00%\n",
            "Epoch [7/20], Loss: 0.1283, Accuracy: 98.00%\n",
            "Epoch [8/20], Loss: 0.1725, Accuracy: 98.00%\n",
            "Epoch [9/20], Loss: 0.1418, Accuracy: 96.00%\n",
            "Epoch [10/20], Loss: 0.2387, Accuracy: 94.00%\n",
            "Epoch [11/20], Loss: 0.0919, Accuracy: 98.00%\n",
            "Epoch [12/20], Loss: 0.1179, Accuracy: 94.00%\n",
            "Epoch [13/20], Loss: 0.1476, Accuracy: 92.00%\n",
            "Epoch [14/20], Loss: 0.0877, Accuracy: 98.00%\n",
            "Epoch [15/20], Loss: 0.0099, Accuracy: 100.00%\n",
            "Epoch [16/20], Loss: 0.0235, Accuracy: 100.00%\n",
            "Epoch [17/20], Loss: 0.0856, Accuracy: 98.00%\n",
            "Epoch [18/20], Loss: 0.0240, Accuracy: 100.00%\n",
            "Epoch [19/20], Loss: 0.0163, Accuracy: 100.00%\n",
            "Epoch [20/20], Loss: 0.0368, Accuracy: 98.00%\n",
            "Training done in 2m 0s\n"
          ],
          "name": "stdout"
        }
      ]
    },
    {
      "cell_type": "code",
      "metadata": {
        "id": "gEaAoavzeMbj",
        "colab_type": "code",
        "outputId": "c2f7ab59-7789-44aa-a550-325b16a4bd96",
        "colab": {
          "base_uri": "https://localhost:8080/",
          "height": 51
        }
      },
      "source": [
        "t1=time.time()\n",
        "pre_train.to(d)\n",
        "\n",
        "with torch.no_grad():\n",
        "  corr = 0\n",
        "  tot = 0\n",
        "  for images, labels in testloader_large:\n",
        "    images=images.to(d,dtype=torch.float)\n",
        "    labels=labels.to(d,dtype=torch.long)\n",
        "    output = pre_train(images.float())\n",
        "    a, pred = torch.max(output.data, 1)\n",
        "    tot += labels.size(0)\n",
        "    corr += (pred == labels).sum().item()\n",
        "\n",
        "  print('Test Accuracy of the model on the 1500 test images: {} %'.format((corr / tot) * 100))\n",
        "  \n",
        "t2=time.time()\n",
        "print('Testing done in {:.0f}m {:.0f}s'.format((t2-t1) // 60, (t2-t1) % 60))"
      ],
      "execution_count": 19,
      "outputs": [
        {
          "output_type": "stream",
          "text": [
            "Test Accuracy of the model on the 1500 test images: 86.5 %\n",
            "Testing done in 0m 0s\n"
          ],
          "name": "stdout"
        }
      ]
    },
    {
      "cell_type": "code",
      "metadata": {
        "id": "1Ns6fnYIbcJV",
        "colab_type": "code",
        "colab": {}
      },
      "source": [
        "#PART B:\n",
        "#Reference: https://becominghuman.ai/extract-a-feature-vector-for-any-image-with-pytorch-9717561d1d4c\n",
        "import torchvision.models as models\n",
        "\n",
        "pre_train = models.alexnet(pretrained=True)\n",
        "feat=pre_train.classifier[6]\n",
        "pre_train.eval()\n",
        "l1=[] #data\n",
        "l2=[] #label\n",
        "\n",
        "for i,data in enumerate(trainloader_large):\n",
        "    images,labels=data\n",
        "    \n",
        "    mat=torch.zeros(50,1000)\n",
        "    def c_data(m1, inp, outp):\n",
        "        mat.copy_(outp.data)\n",
        "    p = feat.register_forward_hook(c_data)\n",
        "    pre_train(images.float())\n",
        "    p.remove()\n",
        "    l1.append(mat.numpy())\n",
        "    l2.append(labels.numpy())"
      ],
      "execution_count": 0,
      "outputs": []
    },
    {
      "cell_type": "code",
      "metadata": {
        "id": "RbCd2JDGi8ON",
        "colab_type": "code",
        "colab": {}
      },
      "source": [
        "train_data=np.array(l1)\n",
        "a,b,c=train_data.shape\n",
        "#print (train_data.shape)\n",
        "\n",
        "train_data=train_data.reshape(a*b,c)\n",
        "#print (train_data.shape)"
      ],
      "execution_count": 0,
      "outputs": []
    },
    {
      "cell_type": "code",
      "metadata": {
        "id": "IxwV7cWNjUPO",
        "colab_type": "code",
        "colab": {}
      },
      "source": [
        "train_label=np.array(l2).flatten()\n",
        "#print (train_label.shape)"
      ],
      "execution_count": 0,
      "outputs": []
    },
    {
      "cell_type": "code",
      "metadata": {
        "id": "A_o6x-CxknqU",
        "colab_type": "code",
        "colab": {}
      },
      "source": [
        "l11=[] #data\n",
        "l22=[] #label\n",
        "\n",
        "for i,data in enumerate(testloader_large):\n",
        "    images,labels=data\n",
        "    mat=torch.zeros(50,1000)\n",
        "    def c_data(m1, inp, outp):\n",
        "        mat.copy_(outp.data)\n",
        "    p = feat.register_forward_hook(c_data)\n",
        "    pre_train(images.float())\n",
        "    p.remove()\n",
        "    l11.append(mat.numpy())\n",
        "    l22.append(labels.numpy())"
      ],
      "execution_count": 0,
      "outputs": []
    },
    {
      "cell_type": "code",
      "metadata": {
        "id": "fzeM-t30k09Z",
        "colab_type": "code",
        "colab": {}
      },
      "source": [
        "test_data=np.array(l11)\n",
        "a,b,c=test_data.shape\n",
        "#print (test_data.shape)\n",
        "\n",
        "test_data=test_data.reshape(a*b,c)\n",
        "#print (test_data.shape)"
      ],
      "execution_count": 0,
      "outputs": []
    },
    {
      "cell_type": "code",
      "metadata": {
        "id": "ddg0mMCXlnBh",
        "colab_type": "code",
        "colab": {}
      },
      "source": [
        "test_label=np.array(l22).flatten()\n",
        "#print (test_label.shape)"
      ],
      "execution_count": 0,
      "outputs": []
    },
    {
      "cell_type": "code",
      "metadata": {
        "id": "PRrA311NkRIf",
        "colab_type": "code",
        "outputId": "d92f5842-c5f2-4844-abb1-ea684a7be1bb",
        "colab": {
          "base_uri": "https://localhost:8080/",
          "height": 102
        }
      },
      "source": [
        "from sklearn.svm import LinearSVC\n",
        "from sklearn.metrics import accuracy_score\n",
        "\n",
        "t1=time.time()\n",
        "svm = LinearSVC(random_state=0, tol=0.001,C=1.0)\n",
        "\n",
        "svm.fit(train_data,train_label)\n",
        "t2=time.time()\n",
        "print('Training done in {:.0f}m {:.0f}s'.format((t2-t1) // 60, (t2-t1) % 60))\n",
        "\n",
        "t3=time.time()\n",
        "y_pred=svm.predict(test_data)\n",
        "t4=time.time()\n",
        "print('Testing done in {:.0f}m {:.0f}s'.format((t4-t3) // 60, (t4-t3) % 60))\n",
        "\n",
        "print(\"Accuracy:\", accuracy_score(test_label, y_pred)*100,\"%\")\n"
      ],
      "execution_count": 57,
      "outputs": [
        {
          "output_type": "stream",
          "text": [
            "Training done in 0m 8s\n",
            "Testing done in 0m 0s\n",
            "Accuracy: 81.25 %\n"
          ],
          "name": "stdout"
        },
        {
          "output_type": "stream",
          "text": [
            "/usr/local/lib/python3.6/dist-packages/sklearn/svm/base.py:929: ConvergenceWarning: Liblinear failed to converge, increase the number of iterations.\n",
            "  \"the number of iterations.\", ConvergenceWarning)\n"
          ],
          "name": "stderr"
        }
      ]
    },
    {
      "cell_type": "code",
      "metadata": {
        "id": "uDbGJUKpVIrt",
        "colab_type": "code",
        "colab": {
          "base_uri": "https://localhost:8080/",
          "height": 816
        },
        "outputId": "54a9a9ca-3922-412c-d97d-73b2b8177e88"
      },
      "source": [
        "#BONUS QUESTION\n",
        "import torchvision.models as models\n",
        "import torch.optim as opti\n",
        "\n",
        "\n",
        "pre_train = models.vgg16(pretrained=True)\n",
        "\n",
        "n=pre_train.classifier[6].in_features\n",
        "feat = list(pre_train.classifier.children())[:-1]\n",
        "feat.extend([nn.Linear(n,16)])\n",
        "\n",
        "pre_train.classifier = nn.Sequential(*feat)\n",
        "\n",
        "opt = opti.SGD(pre_train.parameters(), lr=0.001, momentum=0.9)\n",
        "crit = nn.CrossEntropyLoss()\n",
        "\n",
        "\n",
        "print (pre_train)"
      ],
      "execution_count": 58,
      "outputs": [
        {
          "output_type": "stream",
          "text": [
            "Downloading: \"https://download.pytorch.org/models/vgg16-397923af.pth\" to /root/.cache/torch/checkpoints/vgg16-397923af.pth\n",
            "100%|██████████| 528M/528M [00:03<00:00, 147MB/s]\n"
          ],
          "name": "stderr"
        },
        {
          "output_type": "stream",
          "text": [
            "VGG(\n",
            "  (features): Sequential(\n",
            "    (0): Conv2d(3, 64, kernel_size=(3, 3), stride=(1, 1), padding=(1, 1))\n",
            "    (1): ReLU(inplace=True)\n",
            "    (2): Conv2d(64, 64, kernel_size=(3, 3), stride=(1, 1), padding=(1, 1))\n",
            "    (3): ReLU(inplace=True)\n",
            "    (4): MaxPool2d(kernel_size=2, stride=2, padding=0, dilation=1, ceil_mode=False)\n",
            "    (5): Conv2d(64, 128, kernel_size=(3, 3), stride=(1, 1), padding=(1, 1))\n",
            "    (6): ReLU(inplace=True)\n",
            "    (7): Conv2d(128, 128, kernel_size=(3, 3), stride=(1, 1), padding=(1, 1))\n",
            "    (8): ReLU(inplace=True)\n",
            "    (9): MaxPool2d(kernel_size=2, stride=2, padding=0, dilation=1, ceil_mode=False)\n",
            "    (10): Conv2d(128, 256, kernel_size=(3, 3), stride=(1, 1), padding=(1, 1))\n",
            "    (11): ReLU(inplace=True)\n",
            "    (12): Conv2d(256, 256, kernel_size=(3, 3), stride=(1, 1), padding=(1, 1))\n",
            "    (13): ReLU(inplace=True)\n",
            "    (14): Conv2d(256, 256, kernel_size=(3, 3), stride=(1, 1), padding=(1, 1))\n",
            "    (15): ReLU(inplace=True)\n",
            "    (16): MaxPool2d(kernel_size=2, stride=2, padding=0, dilation=1, ceil_mode=False)\n",
            "    (17): Conv2d(256, 512, kernel_size=(3, 3), stride=(1, 1), padding=(1, 1))\n",
            "    (18): ReLU(inplace=True)\n",
            "    (19): Conv2d(512, 512, kernel_size=(3, 3), stride=(1, 1), padding=(1, 1))\n",
            "    (20): ReLU(inplace=True)\n",
            "    (21): Conv2d(512, 512, kernel_size=(3, 3), stride=(1, 1), padding=(1, 1))\n",
            "    (22): ReLU(inplace=True)\n",
            "    (23): MaxPool2d(kernel_size=2, stride=2, padding=0, dilation=1, ceil_mode=False)\n",
            "    (24): Conv2d(512, 512, kernel_size=(3, 3), stride=(1, 1), padding=(1, 1))\n",
            "    (25): ReLU(inplace=True)\n",
            "    (26): Conv2d(512, 512, kernel_size=(3, 3), stride=(1, 1), padding=(1, 1))\n",
            "    (27): ReLU(inplace=True)\n",
            "    (28): Conv2d(512, 512, kernel_size=(3, 3), stride=(1, 1), padding=(1, 1))\n",
            "    (29): ReLU(inplace=True)\n",
            "    (30): MaxPool2d(kernel_size=2, stride=2, padding=0, dilation=1, ceil_mode=False)\n",
            "  )\n",
            "  (avgpool): AdaptiveAvgPool2d(output_size=(7, 7))\n",
            "  (classifier): Sequential(\n",
            "    (0): Linear(in_features=25088, out_features=4096, bias=True)\n",
            "    (1): ReLU(inplace=True)\n",
            "    (2): Dropout(p=0.5, inplace=False)\n",
            "    (3): Linear(in_features=4096, out_features=4096, bias=True)\n",
            "    (4): ReLU(inplace=True)\n",
            "    (5): Dropout(p=0.5, inplace=False)\n",
            "    (6): Linear(in_features=4096, out_features=16, bias=True)\n",
            "  )\n",
            ")\n"
          ],
          "name": "stdout"
        }
      ]
    },
    {
      "cell_type": "code",
      "metadata": {
        "id": "W8mRS8Ys8SMl",
        "colab_type": "code",
        "colab": {
          "base_uri": "https://localhost:8080/",
          "height": 374
        },
        "outputId": "0b0fb63e-52f3-4f3c-c896-e0dbd64cad8f"
      },
      "source": [
        "epochs=20\n",
        "t1=time.time()\n",
        "pre_train.to(d)\n",
        "for x in range(epochs):\n",
        "    \n",
        "  for i,data in enumerate(trainloader_large):\n",
        "    images,labels=data\n",
        "    images=images.to(d,dtype=torch.float)\n",
        "    labels=labels.to(d,dtype=torch.long)\n",
        "    output=pre_train(images.float())\n",
        "    \n",
        "    loss=crit(output,labels)\n",
        "    opt.zero_grad()\n",
        "    loss.backward()\n",
        "    opt.step()\n",
        "    \n",
        "    tot = labels.size(0)\n",
        "    a, pred = torch.max(output.data, 1)\n",
        "    corr = (pred == labels).sum().item()\n",
        "\n",
        "    if (i + 1) % 30 == 0:\n",
        "      print('Epoch [{}/{}], Loss: {:.4f}, Accuracy: {:.2f}%'.format(x + 1, epochs, loss.item(),(corr / tot) * 100))\n",
        "      \n",
        "t2=time.time()\n",
        "print('Training done in {:.0f}m {:.0f}s'.format((t2-t1) // 60, (t2-t1) % 60))"
      ],
      "execution_count": 59,
      "outputs": [
        {
          "output_type": "stream",
          "text": [
            "Epoch [1/20], Loss: 0.5989, Accuracy: 74.00%\n",
            "Epoch [2/20], Loss: 0.2876, Accuracy: 94.00%\n",
            "Epoch [3/20], Loss: 0.2431, Accuracy: 90.00%\n",
            "Epoch [4/20], Loss: 0.2775, Accuracy: 90.00%\n",
            "Epoch [5/20], Loss: 0.0395, Accuracy: 98.00%\n",
            "Epoch [6/20], Loss: 0.0200, Accuracy: 100.00%\n",
            "Epoch [7/20], Loss: 0.0397, Accuracy: 98.00%\n",
            "Epoch [8/20], Loss: 0.0106, Accuracy: 100.00%\n",
            "Epoch [9/20], Loss: 0.0479, Accuracy: 98.00%\n",
            "Epoch [10/20], Loss: 0.0198, Accuracy: 100.00%\n",
            "Epoch [11/20], Loss: 0.0020, Accuracy: 100.00%\n",
            "Epoch [12/20], Loss: 0.0493, Accuracy: 98.00%\n",
            "Epoch [13/20], Loss: 0.0054, Accuracy: 100.00%\n",
            "Epoch [14/20], Loss: 0.0010, Accuracy: 100.00%\n",
            "Epoch [15/20], Loss: 0.0128, Accuracy: 100.00%\n",
            "Epoch [16/20], Loss: 0.0507, Accuracy: 98.00%\n",
            "Epoch [17/20], Loss: 0.0137, Accuracy: 100.00%\n",
            "Epoch [18/20], Loss: 0.0047, Accuracy: 100.00%\n",
            "Epoch [19/20], Loss: 0.0425, Accuracy: 96.00%\n",
            "Epoch [20/20], Loss: 0.0523, Accuracy: 96.00%\n",
            "Training done in 25m 16s\n"
          ],
          "name": "stdout"
        }
      ]
    },
    {
      "cell_type": "code",
      "metadata": {
        "id": "tFpDporr8Zyb",
        "colab_type": "code",
        "colab": {
          "base_uri": "https://localhost:8080/",
          "height": 51
        },
        "outputId": "3660acd1-cd93-4ded-f093-785579c6fa43"
      },
      "source": [
        "t1=time.time()\n",
        "pre_train.to(d)\n",
        "\n",
        "with torch.no_grad():\n",
        "  corr = 0\n",
        "  tot = 0\n",
        "  for images, labels in testloader_large:\n",
        "    images=images.to(d,dtype=torch.float)\n",
        "    labels=labels.to(d,dtype=torch.long)\n",
        "    output = pre_train(images.float())\n",
        "    a, pred = torch.max(output.data, 1)\n",
        "    tot += labels.size(0)\n",
        "    corr += (pred == labels).sum().item()\n",
        "\n",
        "  print('Test Accuracy of the model on the 1500 test images: {} %'.format((corr / tot) * 100))\n",
        "  \n",
        "t2=time.time()\n",
        "print('Testing done in {:.0f}m {:.0f}s'.format((t2-t1) // 60, (t2-t1) % 60))"
      ],
      "execution_count": 60,
      "outputs": [
        {
          "output_type": "stream",
          "text": [
            "Test Accuracy of the model on the 1500 test images: 92.75 %\n",
            "Testing done in 0m 4s\n"
          ],
          "name": "stdout"
        }
      ]
    },
    {
      "cell_type": "markdown",
      "metadata": {
        "id": "34dOnO2fmZsX",
        "colab_type": "text"
      },
      "source": [
        "**PERFORMANCE REPORT**<br>\n",
        "**Problem 1: Training a Network From Scratch**<br>\n",
        "**Part 1**<br>\n",
        "In the basic model, I constructed a Convolutional Neural Network with the following layers:<br>\n",
        "1) layer_1 : which is a convolutional layer with 1 input channel and 32 output channels. It also has Relu as the activation function and I have also performed max pooling.<br>\n",
        "2) dropout: it is a dropout layer which is used to avoid overfitting with p=0.5.<br>\n",
        "3) layer_2 : which is a convolutional layer with 32 input channels and 64 output channels. It also has Relu as the activation function and I have also performed max pooling as before.<br>\n",
        "Since the output from the two layers above is of the shape [50,16,16,64], I used this as the input to the first linear layer and then [1000,16] in the second linear layer as the number of classes that we have is 16. The final dimension that we get is [50,16].<br>\n",
        "\n",
        "The forward function is called internally and we pass the input to the first convolutional layer and then pass that output to the subsequent layers.<br>\n",
        "\n",
        "Epoch [15/15], Loss: 1.4861, Accuracy: 54.00%<br>\n",
        "Training done in 0m 54s<br>\n",
        "<br>\n",
        "Test Accuracy of the model on the 1500 test images: 51.5 %<br>\n",
        "Testing done in 0m 0s<br>\n",
        "\n",
        "**Part 2**<br>\n",
        "1)Activation func in layer_1=ReLU<br>\n",
        "Activation func in layer_2=Tanh<br>\n",
        "No batch normalization<br>\n",
        "No rotation<br>\n",
        "\n",
        "Epoch [15/15], Loss: 1.6746, Accuracy: 42.00%<br>\n",
        "Training done in 0m 52s<br>\n",
        "\n",
        "Test Accuracy of the model on the 1500 test images: 52.0 %<br>\n",
        "Testing done in 0m 0s<br>\n",
        "\n",
        "2)Activation func in layer_1=ReLu<br>\n",
        "Activation func in layer_2=ReLu<br>\n",
        "With batch normalization<br>\n",
        "No rotation<br>\n",
        "\n",
        "Epoch [15/15], Loss: 0.2216, Accuracy: 98.00%<br>\n",
        "Training done in 0m 50s<br>\n",
        "\n",
        "Test Accuracy of the model on the 1500 test images: 41.0 %<br>\n",
        "Testing done in 0m 0s<br>\n",
        "\n",
        "The model here is obviously overfitting to the training data.<br>\n",
        "3)Activation func in layer_1=ReLu<br>\n",
        "Activation func in layer_2=ReLu<br>\n",
        "No batch normalization<br>\n",
        "With rotation<br>\n",
        "\n",
        "Epoch [15/15], Loss: 0.9171, Accuracy: 64.00%<br>\n",
        "Training done in 0m 52s<br>\n",
        "\n",
        "Test Accuracy of the model on the 1500 test images: 44.0 %<br>\n",
        "Testing done in 0m 0s<br>\n",
        "\n",
        "\n",
        "**Problem 2: Fine Tuning a Pre-Trained Deep Network**<br>\n",
        "**Part 1**<br>\n",
        "I changed the number of output features of the last layer to make it equal to 16(which is the number of classes that we have) instead of 1000(original number of output features).<br>\n",
        "I did not try to make a lot of changes as it was taking a lot of time to train.And I used cuda to make the training time less.<br>\n",
        "Training done in 2m 0s with an average accuracy of 94.2 %<br>\n",
        "\n",
        "Test Accuracy of the model on the 1500 test images: 86.5 %<br>\n",
        "Testing done in 0m 0s<br>\n",
        "\n",
        "**Part 2**<br>\n",
        "I extracted the activations of the pre-trained network as features using the code in the for loop and did this to get both train as well as test data to use as input in my SVM model. I tried changing the parameters in the svm model but this configuration gave me the best results.<br>\n",
        "\n",
        "Training done in 0m 8s<br>\n",
        "Testing done in 0m 0s<br>\n",
        "Accuracy: 81.25 %<br>\n",
        "\n",
        "**Bonus Question**<br>\n",
        "\n",
        "Here I used the pre trained vgg model and as we can see its performance is much better than that of Alexnet. <br>\n",
        "Alexnet has a lot of hyperparameters that can be changed to get different results. VGG on the other hand it a simpler model and always uses a kernel size of 3 with stride 1. Alexnet doesnt have such a strict structure. Since the stride is less in VGG it is able to perform more number of convolutions and absorb more information leading to better accuracy.<br>\n",
        "\n",
        "Training done in 25m 16s with an average accuracy of 96.5 %<br>\n",
        "\n",
        "Test Accuracy of the model on the 1500 test images: 92.75 %<br>\n",
        "Testing done in 0m 4s<br>\n"
      ]
    },
    {
      "cell_type": "markdown",
      "metadata": {
        "id": "5UGefIYpYYNF",
        "colab_type": "text"
      },
      "source": [
        "## Submission guidelines\n",
        "---\n",
        "Extract the downloaded .zip file to a folder of your preference. The input and output paths are predefined and **DO NOT** change them, (we assume that 'Surname_Givenname_SBUID_hw4' is your working directory, and all the paths are relative to this directory).  The image read and write functions are already written for you. All you need to do is to fill in the blanks as indicated to generate proper outputs. **DO NOT** zip and upload the dataset on blackboard due to size limit.\n",
        "\n",
        "When submitting your .zip file through blackboard, please\n",
        "-- name your .zip file as **Surname_Givenname_SBUID_hw*.zip**.\n",
        "\n",
        "This zip file should include:\n",
        "```\n",
        "Surname_Givenname_SBUID_hw*\n",
        "        |---Surname_Givenname_SBUID_hw*.ipynb\n",
        "        |---Surname_Givenname_SBUID_hw*.py\n",
        "        |---Surname_Givenname_SBUID_hw*.pdf\n",
        "```\n",
        "where Surname_Givenname_SBUID_hw*.py is the Python code of Surname_Givenname_SBUID_hw*.ipynb, which can be dowloaded by File->Download .py.\n",
        "\n",
        "For instance, student Michael Jordan should submit a zip file named \"Jordan_Michael_111134567_hw4.zip\" for homework4 in this structure:\n",
        "```\n",
        "Jordan_Michael_111134567_hw4\n",
        "        |---Jordan_Michael_111134567_hw4.ipynb\n",
        "        |---Jordan_Michael_111134567_hw4.py\n",
        "        |---Jordan_Michael_111134567_hw4.pdf\n",
        "```\n",
        "\n",
        "The **Surname_Givenname_SBUID_hw*.pdf** should include a **google shared link** and **Surname_Givenname_SBUID_Pred*.pdf** should be your test set prediction file in the specified format. To generate the **google shared link**, first create a folder named **Surname_Givenname_SBUID_hw*** in your Google Drive with your Stony Brook account. The structure of the files in the folder should be exactly the same as the one you downloaded. If you alter the folder structures, the grading of your homework will be significantly delayed and possibly penalized.\n",
        "\n",
        "Then right click this folder, click ***Get shareable link***, in the People textfield, enter two TA's emails: ***bo.cao.1@stonybrook.edu*** and ***sayontan.ghosh@stonybrook.edu***. Make sure that TAs who have the link **can edit**, ***not just*** **can view**, and also **uncheck** the **Notify people** box.\n",
        "\n",
        "Colab has a good feature of version control, you should take advantage of this to save your work properly. However, the timestamp of the submission made in blackboard is the only one that we consider for grading. To be more specific, we will only grade the version of your code right before the timestamp of the submission made in blackboard. \n",
        "\n",
        "You are encouraged to post and answer questions on Piazza. Based on the amount of email that we have received in past years, there might be dealys in replying to personal emails. Please ask questions on Piazza and send emails only for personal issues.\n",
        "\n",
        "Be aware that your code will undergo plagiarism check both vertically and horizontally. Please do your own work.\n",
        "\n",
        "**Late submission penalty:** <br>\n",
        "There will be a 10% penalty per day for late submission. However, you will have 4 days throughout the whole semester to submit late without penalty. Note that the grace period is calculated by days instead of hours. If you submit the homework one minute after the deadline, one late day will be counted. Likewise, if you submit one minute after the deadline, the 10% penaly will be imposed if not using the grace period."
      ]
    },
    {
      "cell_type": "markdown",
      "metadata": {
        "id": "AYJOi8QYYYNG",
        "colab_type": "text"
      },
      "source": [
        "<!--Write your report here in markdown or html-->\n"
      ]
    }
  ]
}