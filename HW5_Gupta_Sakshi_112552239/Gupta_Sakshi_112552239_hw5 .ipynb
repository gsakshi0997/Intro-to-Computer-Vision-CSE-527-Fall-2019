{
  "nbformat": 4,
  "nbformat_minor": 0,
  "metadata": {
    "accelerator": "GPU",
    "anaconda-cloud": {},
    "colab": {
      "name": "Gupta_Sakshi_112552239_hw5.ipynb",
      "provenance": [],
      "collapsed_sections": []
    },
    "kernelspec": {
      "display_name": "Python 3",
      "language": "python",
      "name": "python3"
    },
    "language_info": {
      "codemirror_mode": {
        "name": "ipython",
        "version": 3
      },
      "file_extension": ".py",
      "mimetype": "text/x-python",
      "name": "python",
      "nbconvert_exporter": "python",
      "pygments_lexer": "ipython3",
      "version": "3.6.9"
    }
  },
  "cells": [
    {
      "cell_type": "markdown",
      "metadata": {
        "colab_type": "text",
        "id": "AcamCuuyjYb2"
      },
      "source": [
        "# Action Recognition @ UCF101  \n",
        "**Due date: 11:59 pm on Nov. 19, 2019 (Tuesday)**\n",
        "\n",
        "## Description\n",
        "---\n",
        "In this homework, you will be doing action recognition using Recurrent Neural Network (RNN), (Long-Short Term Memory) LSTM in particular. You will be given a dataset called UCF101, which consists of 101 different actions/classes and for each action, there will be 145 samples. We tagged each sample into either training or testing. Each sample is supposed to be a short video, but we sampled 25 frames from each videos to reduce the amount of data. Consequently, a training sample is an image tuple that forms a 3D volume with one dimension encoding *temporal correlation* between frames and a label indicating what action it is.\n",
        "\n",
        "To tackle this problem, we aim to build a neural network that can not only capture spatial information of each frame but also temporal information between frames. Fortunately, you don't have to do this on your own. RNN — a type of neural network designed to deal with time-series data — is right here for you to use. In particular, you will be using LSTM for this task.\n",
        "\n",
        "Instead of training an end-to-end neural network from scratch whose computation is prohibitively expensive, we divide this into two steps: feature extraction and modelling. Below are the things you need to implement for this homework:\n",
        "- **{35 pts} Feature extraction**. Use any of the [pre-trained models](https://pytorch.org/docs/stable/torchvision/models.html) to extract features from each frame. Specifically, we recommend not to use the activations of the last layer as the features tend to be task specific towards the end of the network. \n",
        "    **hints**: \n",
        "    - A good starting point would be to use a pre-trained VGG16 network, we suggest first fully connected layer `torchvision.models.vgg16` (4096 dim) as features of each video frame. This will result into a 4096x25 matrix for each video. \n",
        "    - Normalize your images using `torchvision.transforms` \n",
        "    ```\n",
        "    normalize = transforms.Normalize(mean=[0.485, 0.456, 0.406], std=[0.229, 0.224, 0.225])\n",
        "    prep = transforms.Compose([ transforms.ToTensor(), normalize ])\n",
        "    prep(img)\n",
        "    The mean and std. mentioned above is specific to Imagenet data\n",
        "    \n",
        "    ```\n",
        "    More details of image preprocessing in PyTorch can be found at http://pytorch.org/tutorials/beginner/data_loading_tutorial.html\n",
        "    \n",
        "- **{35 pts} Modelling**. With the extracted features, build an LSTM network which takes a **dx25** sample as input (where **d** is the dimension of the extracted feature for each frame), and outputs the action label of that sample.\n",
        "- **{20 pts} Evaluation**. After training your network, you need to evaluate your model with the testing data by computing the prediction accuracy **(5 points)**. The baseline test accuracy for this data is 75%, and **10 points** out of 20 is for achieving test accuracy greater than the baseline. Moreover, you need to compare **(5 points)** the result of your network with that of support vector machine (SVM) (stacking the **dx25** feature matrix to a long vector and train a SVM).\n",
        "- **{10 pts} Report**. Details regarding the report can be found in the submission section below.\n",
        "\n",
        "Notice that the size of the raw images is 256x340, whereas your pre-trained model might take **nxn** images as inputs. To solve this problem, instead of resizing the images which unfavorably changes the spatial ratio, we take a better solution: Cropping five **nxn** images, one at the image center and four at the corners and compute the **d**-dim features for each of them, and average these five **d**-dim feature to get a final feature representation for the raw image.\n",
        "For example, VGG takes 224x224 images as inputs, so we take the five 224x224 croppings of the image, compute 4096-dim VGG features for each of them, and then take the mean of these five 4096-dim vectors to be the representation of the image.\n",
        "\n",
        "In order to save you computational time, you need to do the classification task only for **the first 25** classes of the whole dataset. The same applies to those who have access to GPUs. **Bonus 10 points for running and reporting on the entire 101 classes.**\n",
        "\n",
        "\n",
        "## Dataset\n",
        "Download **dataset** at [UCF101](http://vision.cs.stonybrook.edu/~yangwang/public/UCF101_images.tar)(Image data for each video) and the **annos folder** which has the video labels and the label to class name mapping is included in the assignment folder uploaded. \n",
        "\n",
        "\n",
        "UCF101 dataset contains 101 actions and 13,320 videos in total.  \n",
        "\n",
        "+ `annos/actions.txt`  \n",
        "  + lists all the actions (`ApplyEyeMakeup`, .., `YoYo`)   \n",
        "  \n",
        "+ `annots/videos_labels_subsets.txt`  \n",
        "  + lists all the videos (`v_000001`, .., `v_013320`)  \n",
        "  + labels (`1`, .., `101`)  \n",
        "  + subsets (`1` for train, `2` for test)  \n",
        "\n",
        "+ `images/`  \n",
        "  + each folder represents a video\n",
        "  + the video/folder name to class mapping can be found using `annots/videos_labels_subsets.txt`, for e.g. `v_000001` belongs to class 1 i.e. `ApplyEyeMakeup`\n",
        "  + each video folder contains 25 frames  \n",
        "\n",
        "\n",
        "\n",
        "## Some Tutorials\n",
        "- Good materials for understanding RNN and LSTM\n",
        "    - http://blog.echen.me\n",
        "    - http://karpathy.github.io/2015/05/21/rnn-effectiveness/\n",
        "    - http://colah.github.io/posts/2015-08-Understanding-LSTMs/\n",
        "- Implementing RNN and LSTM with PyTorch\n",
        "    - [LSTM with PyTorch](http://pytorch.org/tutorials/beginner/nlp/sequence_models_tutorial.html#sphx-glr-beginner-nlp-sequence-models-tutorial-py)\n",
        "    - [RNN with PyTorch](http://pytorch.org/tutorials/intermediate/char_rnn_classification_tutorial.html)"
      ]
    },
    {
      "cell_type": "code",
      "metadata": {
        "id": "arqGqg8uBfHI",
        "colab_type": "code",
        "colab": {
          "base_uri": "https://localhost:8080/",
          "height": 34
        },
        "outputId": "2cd266f4-bf64-4b89-c723-7e839aa3756b"
      },
      "source": [
        "from google.colab import drive\n",
        "drive.mount('/content/drive')"
      ],
      "execution_count": 1,
      "outputs": [
        {
          "output_type": "stream",
          "text": [
            "Drive already mounted at /content/drive; to attempt to forcibly remount, call drive.mount(\"/content/drive\", force_remount=True).\n"
          ],
          "name": "stdout"
        }
      ]
    },
    {
      "cell_type": "code",
      "metadata": {
        "id": "7ZwbKcKeBgDo",
        "colab_type": "code",
        "colab": {
          "base_uri": "https://localhost:8080/",
          "height": 34
        },
        "outputId": "330659e9-dfa6-4dd2-94d7-d3701441008d"
      },
      "source": [
        "cd '/content/drive/My Drive/HW5_CV'\n"
      ],
      "execution_count": 2,
      "outputs": [
        {
          "output_type": "stream",
          "text": [
            "/content/drive/My Drive/HW5_CV\n"
          ],
          "name": "stdout"
        }
      ]
    },
    {
      "cell_type": "code",
      "metadata": {
        "id": "Erhq3dZbBzT1",
        "colab_type": "code",
        "colab": {
          "base_uri": "https://localhost:8080/",
          "height": 34
        },
        "outputId": "b2e703a2-b9ce-4027-b983-cde38bb4ce94"
      },
      "source": [
        "cd 'images'"
      ],
      "execution_count": 3,
      "outputs": [
        {
          "output_type": "stream",
          "text": [
            "/content/drive/My Drive/HW5_CV/images\n"
          ],
          "name": "stdout"
        }
      ]
    },
    {
      "cell_type": "markdown",
      "metadata": {
        "colab_type": "text",
        "id": "UdCRwkL7jxtc"
      },
      "source": [
        "---\n",
        "---\n",
        "## **Problem 1.** Feature extraction"
      ]
    },
    {
      "cell_type": "code",
      "metadata": {
        "colab_type": "code",
        "id": "urKQi8oAjYb-",
        "colab": {}
      },
      "source": [
        "# \\*write your codes for feature extraction (You can use multiple cells, this is just a place holder)\n",
        "# \\*write your codes for feature extraction (You can use multiple cells, this is just a place holder)\n",
        "import torch\n",
        "import torch.nn as nn\n",
        "import torch.nn.functional as F\n",
        "import torch.optim as optim\n",
        "import cv2\n",
        "import numpy as np\n",
        "import scipy.io\n",
        "import numpy as np\n",
        "from random import shuffle\n",
        "import copy\n",
        "from sklearn.metrics import accuracy_score \n",
        "from sklearn.svm import LinearSVC\n",
        "from sklearn.multiclass import OneVsRestClassifier\n",
        "from sklearn.metrics import accuracy_score\n",
        "import pickle"
      ],
      "execution_count": 0,
      "outputs": []
    },
    {
      "cell_type": "code",
      "metadata": {
        "id": "khjwrTETJPDy",
        "colab_type": "code",
        "colab": {}
      },
      "source": [
        "# \\*write your codes for feature extraction (You can use multiple cells, this is just a place holder)\n",
        "train_features=[]\n",
        "test_features=[]\n",
        "train_labels=[]\n",
        "test_labels=[]\n",
        "total_data=[]\n",
        "shuffle_data=[]\n",
        "file_path='/content/drive/My Drive/CV_HW5/annos/videos_labels_subsets.txt'\n",
        "\n",
        "with open(file_path,'r') as fp:\n",
        "  line=fp.read()\n",
        "  line_list=line.split(\"\\n\")\n",
        "\n",
        "  for l in line_list:\n",
        "    l1=l.split(\"\\t\")\n",
        "    #print(l1)\n",
        "    total_data.append(l1)\n",
        "#print(total_data)\n",
        "\n",
        "for i in range(0,3360):\n",
        "  shuffle_data.append(total_data[i])\n",
        "shuffle(shuffle_data)\n",
        "\n",
        "for i in range(0,3360):\n",
        "  t=total_data[i][2]\n",
        "  #print (t)\n",
        "  if t=='1':\n",
        "    train_features.append(shuffle_data[i][0])\n",
        "    train_labels.append(shuffle_data[i][1])\n",
        "  elif t=='2':\n",
        "    test_features.append(shuffle_data[i][0])\n",
        "    test_labels.appendshuffle_data[i][1])\n",
        "\n",
        "#len(test_features)\n",
        "#len(train_features)"
      ],
      "execution_count": 0,
      "outputs": []
    },
    {
      "cell_type": "code",
      "metadata": {
        "id": "37hre03SJ1aY",
        "colab_type": "code",
        "colab": {
          "base_uri": "https://localhost:8080/",
          "height": 697
        },
        "outputId": "1137f028-60d0-493d-b1c7-c3e82bdd5760"
      },
      "source": [
        "import torchvision.models as models\n",
        "import torch.optim as opti\n",
        "\n",
        "import torch.nn as nn\n",
        "\n",
        "pre_train = models.vgg16(pretrained=True)\n",
        "\n",
        "#n=pre_train.classifier[6].in_features\n",
        "feat = list(pre_train.classifier.children())[:2]\n",
        "\n",
        "pre_train.classifier = nn.Sequential(*feat)\n",
        "\n",
        "opt = opti.SGD(pre_train.parameters(), lr=0.001, momentum=0.9)\n",
        "crit = nn.CrossEntropyLoss()\n",
        "\n",
        "\n",
        "print (pre_train)"
      ],
      "execution_count": 6,
      "outputs": [
        {
          "output_type": "stream",
          "text": [
            "VGG(\n",
            "  (features): Sequential(\n",
            "    (0): Conv2d(3, 64, kernel_size=(3, 3), stride=(1, 1), padding=(1, 1))\n",
            "    (1): ReLU(inplace=True)\n",
            "    (2): Conv2d(64, 64, kernel_size=(3, 3), stride=(1, 1), padding=(1, 1))\n",
            "    (3): ReLU(inplace=True)\n",
            "    (4): MaxPool2d(kernel_size=2, stride=2, padding=0, dilation=1, ceil_mode=False)\n",
            "    (5): Conv2d(64, 128, kernel_size=(3, 3), stride=(1, 1), padding=(1, 1))\n",
            "    (6): ReLU(inplace=True)\n",
            "    (7): Conv2d(128, 128, kernel_size=(3, 3), stride=(1, 1), padding=(1, 1))\n",
            "    (8): ReLU(inplace=True)\n",
            "    (9): MaxPool2d(kernel_size=2, stride=2, padding=0, dilation=1, ceil_mode=False)\n",
            "    (10): Conv2d(128, 256, kernel_size=(3, 3), stride=(1, 1), padding=(1, 1))\n",
            "    (11): ReLU(inplace=True)\n",
            "    (12): Conv2d(256, 256, kernel_size=(3, 3), stride=(1, 1), padding=(1, 1))\n",
            "    (13): ReLU(inplace=True)\n",
            "    (14): Conv2d(256, 256, kernel_size=(3, 3), stride=(1, 1), padding=(1, 1))\n",
            "    (15): ReLU(inplace=True)\n",
            "    (16): MaxPool2d(kernel_size=2, stride=2, padding=0, dilation=1, ceil_mode=False)\n",
            "    (17): Conv2d(256, 512, kernel_size=(3, 3), stride=(1, 1), padding=(1, 1))\n",
            "    (18): ReLU(inplace=True)\n",
            "    (19): Conv2d(512, 512, kernel_size=(3, 3), stride=(1, 1), padding=(1, 1))\n",
            "    (20): ReLU(inplace=True)\n",
            "    (21): Conv2d(512, 512, kernel_size=(3, 3), stride=(1, 1), padding=(1, 1))\n",
            "    (22): ReLU(inplace=True)\n",
            "    (23): MaxPool2d(kernel_size=2, stride=2, padding=0, dilation=1, ceil_mode=False)\n",
            "    (24): Conv2d(512, 512, kernel_size=(3, 3), stride=(1, 1), padding=(1, 1))\n",
            "    (25): ReLU(inplace=True)\n",
            "    (26): Conv2d(512, 512, kernel_size=(3, 3), stride=(1, 1), padding=(1, 1))\n",
            "    (27): ReLU(inplace=True)\n",
            "    (28): Conv2d(512, 512, kernel_size=(3, 3), stride=(1, 1), padding=(1, 1))\n",
            "    (29): ReLU(inplace=True)\n",
            "    (30): MaxPool2d(kernel_size=2, stride=2, padding=0, dilation=1, ceil_mode=False)\n",
            "  )\n",
            "  (avgpool): AdaptiveAvgPool2d(output_size=(7, 7))\n",
            "  (classifier): Sequential(\n",
            "    (0): Linear(in_features=25088, out_features=4096, bias=True)\n",
            "    (1): ReLU(inplace=True)\n",
            "  )\n",
            ")\n"
          ],
          "name": "stdout"
        }
      ]
    },
    {
      "cell_type": "code",
      "metadata": {
        "id": "88bIQ1OxJ4eo",
        "colab_type": "code",
        "colab": {}
      },
      "source": [
        "\n",
        "from PIL import Image\n",
        "import glob\n",
        "import torch\n",
        "import torchvision\n",
        "import torchvision.transforms as transforms\n",
        "import numpy as np\n",
        "from scipy import io\n",
        "import pickle\n",
        "  #image_list = []\n",
        "pre_train.cuda()\n",
        "normalize = transforms.Normalize(mean=[0.485, 0.456, 0.406], std=[0.229, 0.224, 0.225])\n",
        "prep = transforms.Compose([ transforms.ToTensor(), normalize ])\n",
        "mean_list=[]\n",
        "c=0\n",
        "feat_1=[]\n",
        "feat_stack=[]\n",
        "torch.no_grad()\n",
        "for names in train_features[0:500]:\n",
        "  full_path = \"/content/drive/My Drive/HW5_CV/images/\" + names + \"/*\"\n",
        "  images_path = [name for name in glob.glob(full_path)]\n",
        "  print (len(images_path))\n",
        "\n",
        "  with torch.no_grad():    \n",
        "    for image_path in images_path:\n",
        "      #print (image_path)\n",
        "      img = cv2.imread(image_path)\n",
        "            \n",
        "      #for filename in glob.glob(train_features[i]+\"/*\"):\n",
        "      #paths=[name for name in glob.glob(train_features[i]+\"/*\")]\n",
        "      #print (len(paths))\n",
        "      #for path in paths:\n",
        "        \n",
        "       # image=cv2.imread(path)\n",
        "        #image_list.append(image)\n",
        "      #print (len(image_list))\n",
        "      #for img in image_list:\n",
        "      img1=img[16:240,58:282]\n",
        "      img2=img[0:224,0:224]\n",
        "      img3=img[0:224,116:340]\n",
        "      img4=img[32:256,0:224]\n",
        "      img5=img[32:256,116:340]\n",
        "\n",
        "      img1=prep(img1)\n",
        "      img1=img1.unsqueeze(0)\n",
        "      img2=prep(img2)\n",
        "      img2=img2.unsqueeze(0)\n",
        "      img3=prep(img3)\n",
        "      img3=img3.unsqueeze(0)\n",
        "      img4=prep(img4)\n",
        "      img4=img4.unsqueeze(0)\n",
        "      img5=prep(img5)\n",
        "      img5=img5.unsqueeze(0)\n",
        "              \n",
        "      img1=img1.cuda()\n",
        "      feat1=pre_train(img1)\n",
        "      img2=img2.cuda()\n",
        "      feat2=pre_train(img2)\n",
        "      img3=img3.cuda()\n",
        "      feat3=pre_train(img3)\n",
        "      img4=img4.cuda()\n",
        "      feat4=pre_train(img4)\n",
        "      img5=img5.cuda()\n",
        "      feat5=pre_train(img5)\n",
        "      #inp=[img1,img2,img3,img4,img5] \n",
        "      #inp=torch.stack(inp)\n",
        "      #out=pre_train(inp)  \n",
        "      #mean=out.mean(0)\n",
        "      mean=(feat1+feat2+feat3+feat4+feat5)/5\n",
        "                  #mean = torch.mean(my_list)\n",
        "      #io.savemat('features_final.mat',{\"features\":mean})\n",
        "      #feat.append(mean)\n",
        "      feat_1.append(mean)\n",
        "    #a=torch.stack(feat_1)\n",
        "      #io.savemat('features_final_test.mat',{\"features\":feat_1})\n",
        "    #feat_stack.append(a)\n",
        "  c=c+1\n",
        "  print (c)\n"
      ],
      "execution_count": 0,
      "outputs": []
    },
    {
      "cell_type": "code",
      "metadata": {
        "id": "o-G67sz_KdOi",
        "colab_type": "code",
        "colab": {}
      },
      "source": [
        "import pickle\n",
        "pick=open('train_1.pkl','wb')\n",
        "pickle.dump(feat_1,pick)\n",
        "pick.close()"
      ],
      "execution_count": 0,
      "outputs": []
    },
    {
      "cell_type": "code",
      "metadata": {
        "id": "EqbbmNSaKgU5",
        "colab_type": "code",
        "colab": {}
      },
      "source": [
        "del feat_1"
      ],
      "execution_count": 0,
      "outputs": []
    },
    {
      "cell_type": "code",
      "metadata": {
        "id": "5q8PFaZXMkIu",
        "colab_type": "code",
        "colab": {}
      },
      "source": [
        "f=open('train_1.pkl','rb')\n",
        "data1=pickle.load(f)"
      ],
      "execution_count": 0,
      "outputs": []
    },
    {
      "cell_type": "code",
      "metadata": {
        "id": "yhNXYmKDMXia",
        "colab_type": "code",
        "colab": {}
      },
      "source": [
        "\n",
        "from PIL import Image\n",
        "import glob\n",
        "import torch\n",
        "import torchvision\n",
        "import torchvision.transforms as transforms\n",
        "import numpy as np\n",
        "from scipy import io\n",
        "import pickle\n",
        "  #image_list = []\n",
        "pre_train.cuda()\n",
        "normalize = transforms.Normalize(mean=[0.485, 0.456, 0.406], std=[0.229, 0.224, 0.225])\n",
        "prep = transforms.Compose([ transforms.ToTensor(), normalize ])\n",
        "mean_list=[]\n",
        "c=0\n",
        "feat_1=[]\n",
        "feat_stack=[]\n",
        "torch.no_grad()\n",
        "for names in train_features[500:1000]:\n",
        "  full_path = \"/content/drive/My Drive/HW5_CV/images/\" + names + \"/*\"\n",
        "  images_path = [name for name in glob.glob(full_path)]\n",
        "  #print (images_path)\n",
        "\n",
        "  with torch.no_grad():    \n",
        "    for image_path in images_path:\n",
        "      #print (image_path)\n",
        "      img = cv2.imread(image_path)\n",
        "            \n",
        "      #for filename in glob.glob(train_features[i]+\"/*\"):\n",
        "      #paths=[name for name in glob.glob(train_features[i]+\"/*\")]\n",
        "      #print (len(paths))\n",
        "      #for path in paths:\n",
        "        \n",
        "       # image=cv2.imread(path)\n",
        "        #image_list.append(image)\n",
        "      #print (len(image_list))\n",
        "      #for img in image_list:\n",
        "      img1=img[16:240,58:282]\n",
        "      img2=img[0:224,0:224]\n",
        "      img3=img[0:224,116:340]\n",
        "      img4=img[32:256,0:224]\n",
        "      img5=img[32:256,116:340]\n",
        "\n",
        "      img1=prep(img1)\n",
        "      img1=img1.unsqueeze(0)\n",
        "      img2=prep(img2)\n",
        "      img2=img2.unsqueeze(0)\n",
        "      img3=prep(img3)\n",
        "      img3=img3.unsqueeze(0)\n",
        "      img4=prep(img4)\n",
        "      img4=img4.unsqueeze(0)\n",
        "      img5=prep(img5)\n",
        "      img5=img5.unsqueeze(0)\n",
        "              \n",
        "      img1=img1.cuda()\n",
        "      feat1=pre_train(img1)\n",
        "      img2=img2.cuda()\n",
        "      feat2=pre_train(img2)\n",
        "      img3=img3.cuda()\n",
        "      feat3=pre_train(img3)\n",
        "      img4=img4.cuda()\n",
        "      feat4=pre_train(img4)\n",
        "      img5=img5.cuda()\n",
        "      feat5=pre_train(img5)\n",
        "      #inp=[img1,img2,img3,img4,img5] \n",
        "      #inp=torch.stack(inp)\n",
        "      #out=pre_train(inp)  \n",
        "      #mean=out.mean(0)\n",
        "      mean=(feat1+feat2+feat3+feat4+feat5)/5\n",
        "                  #mean = torch.mean(my_list)\n",
        "      #io.savemat('features_final.mat',{\"features\":mean})\n",
        "      #feat.append(mean)\n",
        "      feat_1.append(mean)\n",
        "    #a=torch.stack(feat_1)\n",
        "      #io.savemat('features_final_test.mat',{\"features\":feat_1})\n",
        "    #feat_stack.append(a)\n",
        "  c=c+1\n",
        "  print (c)\n"
      ],
      "execution_count": 0,
      "outputs": []
    },
    {
      "cell_type": "code",
      "metadata": {
        "id": "0GTS8RhdMam5",
        "colab_type": "code",
        "colab": {}
      },
      "source": [
        "pick=open('train_2.pkl','wb')\n",
        "pickle.dump(feat_1,pick)\n",
        "pick.close()"
      ],
      "execution_count": 0,
      "outputs": []
    },
    {
      "cell_type": "code",
      "metadata": {
        "id": "olacpqJaMeA8",
        "colab_type": "code",
        "colab": {}
      },
      "source": [
        "del feat_1"
      ],
      "execution_count": 0,
      "outputs": []
    },
    {
      "cell_type": "code",
      "metadata": {
        "id": "iOIePfp3TNkS",
        "colab_type": "code",
        "colab": {}
      },
      "source": [
        "\n",
        "from PIL import Image\n",
        "import glob\n",
        "import torch\n",
        "import torchvision\n",
        "import torchvision.transforms as transforms\n",
        "import numpy as np\n",
        "from scipy import io\n",
        "import pickle\n",
        "  #image_list = []\n",
        "pre_train.cuda()\n",
        "normalize = transforms.Normalize(mean=[0.485, 0.456, 0.406], std=[0.229, 0.224, 0.225])\n",
        "prep = transforms.Compose([ transforms.ToTensor(), normalize ])\n",
        "mean_list=[]\n",
        "c=0\n",
        "feat_1=[]\n",
        "feat_stack=[]\n",
        "torch.no_grad()\n",
        "for names in train_features[1000:1500]:\n",
        "  full_path = \"/content/drive/My Drive/HW5_CV/images/\" + names + \"/*\"\n",
        "  images_path = [name for name in glob.glob(full_path)]\n",
        "  #print (images_path)\n",
        "\n",
        "  with torch.no_grad():    \n",
        "    for image_path in images_path:\n",
        "      #print (image_path)\n",
        "      img = cv2.imread(image_path)\n",
        "            \n",
        "      #for filename in glob.glob(train_features[i]+\"/*\"):\n",
        "      #paths=[name for name in glob.glob(train_features[i]+\"/*\")]\n",
        "      #print (len(paths))\n",
        "      #for path in paths:\n",
        "        \n",
        "       # image=cv2.imread(path)\n",
        "        #image_list.append(image)\n",
        "      #print (len(image_list))\n",
        "      #for img in image_list:\n",
        "      img1=img[16:240,58:282]\n",
        "      img2=img[0:224,0:224]\n",
        "      img3=img[0:224,116:340]\n",
        "      img4=img[32:256,0:224]\n",
        "      img5=img[32:256,116:340]\n",
        "\n",
        "      img1=prep(img1)\n",
        "      img1=img1.unsqueeze(0)\n",
        "      img2=prep(img2)\n",
        "      img2=img2.unsqueeze(0)\n",
        "      img3=prep(img3)\n",
        "      img3=img3.unsqueeze(0)\n",
        "      img4=prep(img4)\n",
        "      img4=img4.unsqueeze(0)\n",
        "      img5=prep(img5)\n",
        "      img5=img5.unsqueeze(0)\n",
        "              \n",
        "      img1=img1.cuda()\n",
        "      feat1=pre_train(img1)\n",
        "      img2=img2.cuda()\n",
        "      feat2=pre_train(img2)\n",
        "      img3=img3.cuda()\n",
        "      feat3=pre_train(img3)\n",
        "      img4=img4.cuda()\n",
        "      feat4=pre_train(img4)\n",
        "      img5=img5.cuda()\n",
        "      feat5=pre_train(img5)\n",
        "      #inp=[img1,img2,img3,img4,img5] \n",
        "      #inp=torch.stack(inp)\n",
        "      #out=pre_train(inp)  \n",
        "      #mean=out.mean(0)\n",
        "      mean=(feat1+feat2+feat3+feat4+feat5)/5\n",
        "                  #mean = torch.mean(my_list)\n",
        "      #io.savemat('features_final.mat',{\"features\":mean})\n",
        "      #feat.append(mean)\n",
        "      feat_1.append(mean)\n",
        "    #a=torch.stack(feat_1)\n",
        "      #io.savemat('features_final_test.mat',{\"features\":feat_1})\n",
        "    #feat_stack.append(a)\n",
        "  c=c+1\n",
        "  print (c)\n"
      ],
      "execution_count": 0,
      "outputs": []
    },
    {
      "cell_type": "code",
      "metadata": {
        "id": "Z9oAXhX-VCAA",
        "colab_type": "code",
        "colab": {}
      },
      "source": [
        "pick=open('train_3.pkl','wb')\n",
        "pickle.dump(feat_1,pick)\n",
        "pick.close()"
      ],
      "execution_count": 0,
      "outputs": []
    },
    {
      "cell_type": "code",
      "metadata": {
        "id": "BtI4Vyd2VEO1",
        "colab_type": "code",
        "colab": {}
      },
      "source": [
        "del feat_1"
      ],
      "execution_count": 0,
      "outputs": []
    },
    {
      "cell_type": "code",
      "metadata": {
        "id": "7jUkrwj5VFk2",
        "colab_type": "code",
        "colab": {}
      },
      "source": [
        "\n",
        "from PIL import Image\n",
        "import glob\n",
        "import torch\n",
        "import torchvision\n",
        "import torchvision.transforms as transforms\n",
        "import numpy as np\n",
        "from scipy import io\n",
        "import pickle\n",
        "  #image_list = []\n",
        "pre_train.cuda()\n",
        "normalize = transforms.Normalize(mean=[0.485, 0.456, 0.406], std=[0.229, 0.224, 0.225])\n",
        "prep = transforms.Compose([ transforms.ToTensor(), normalize ])\n",
        "mean_list=[]\n",
        "c=0\n",
        "feat_1=[]\n",
        "feat_stack=[]\n",
        "torch.no_grad()\n",
        "for names in train_features[1500:2000]:\n",
        "  full_path = \"/content/drive/My Drive/HW5_CV/images/\" + names + \"/*\"\n",
        "  images_path = [name for name in glob.glob(full_path)]\n",
        "  #print (images_path)\n",
        "\n",
        "  with torch.no_grad():    \n",
        "    for image_path in images_path:\n",
        "      #print (image_path)\n",
        "      img = cv2.imread(image_path)\n",
        "            \n",
        "      #for filename in glob.glob(train_features[i]+\"/*\"):\n",
        "      #paths=[name for name in glob.glob(train_features[i]+\"/*\")]\n",
        "      #print (len(paths))\n",
        "      #for path in paths:\n",
        "        \n",
        "       # image=cv2.imread(path)\n",
        "        #image_list.append(image)\n",
        "      #print (len(image_list))\n",
        "      #for img in image_list:\n",
        "      img1=img[16:240,58:282]\n",
        "      img2=img[0:224,0:224]\n",
        "      img3=img[0:224,116:340]\n",
        "      img4=img[32:256,0:224]\n",
        "      img5=img[32:256,116:340]\n",
        "\n",
        "      img1=prep(img1)\n",
        "      img1=img1.unsqueeze(0)\n",
        "      img2=prep(img2)\n",
        "      img2=img2.unsqueeze(0)\n",
        "      img3=prep(img3)\n",
        "      img3=img3.unsqueeze(0)\n",
        "      img4=prep(img4)\n",
        "      img4=img4.unsqueeze(0)\n",
        "      img5=prep(img5)\n",
        "      img5=img5.unsqueeze(0)\n",
        "              \n",
        "      img1=img1.cuda()\n",
        "      feat1=pre_train(img1)\n",
        "      img2=img2.cuda()\n",
        "      feat2=pre_train(img2)\n",
        "      img3=img3.cuda()\n",
        "      feat3=pre_train(img3)\n",
        "      img4=img4.cuda()\n",
        "      feat4=pre_train(img4)\n",
        "      img5=img5.cuda()\n",
        "      feat5=pre_train(img5)\n",
        "      #inp=[img1,img2,img3,img4,img5] \n",
        "      #inp=torch.stack(inp)\n",
        "      #out=pre_train(inp)  \n",
        "      #mean=out.mean(0)\n",
        "      mean=(feat1+feat2+feat3+feat4+feat5)/5\n",
        "                  #mean = torch.mean(my_list)\n",
        "      #io.savemat('features_final.mat',{\"features\":mean})\n",
        "      #feat.append(mean)\n",
        "      feat_1.append(mean)\n",
        "    #a=torch.stack(feat_1)\n",
        "      #io.savemat('features_final_test.mat',{\"features\":feat_1})\n",
        "    #feat_stack.append(a)\n",
        "  c=c+1\n",
        "  print (c)\n"
      ],
      "execution_count": 0,
      "outputs": []
    },
    {
      "cell_type": "code",
      "metadata": {
        "id": "PG8dZnhpVILB",
        "colab_type": "code",
        "colab": {}
      },
      "source": [
        "pick=open('train_4.pkl','wb')\n",
        "pickle.dump(feat_1,pick)\n",
        "pick.close()"
      ],
      "execution_count": 0,
      "outputs": []
    },
    {
      "cell_type": "code",
      "metadata": {
        "id": "H7NuPvADVKUL",
        "colab_type": "code",
        "colab": {}
      },
      "source": [
        "del feat_1"
      ],
      "execution_count": 0,
      "outputs": []
    },
    {
      "cell_type": "code",
      "metadata": {
        "id": "TzJ4py8PVr0Y",
        "colab_type": "code",
        "colab": {}
      },
      "source": [
        "\n",
        "from PIL import Image\n",
        "import glob\n",
        "import torch\n",
        "import torchvision\n",
        "import torchvision.transforms as transforms\n",
        "import numpy as np\n",
        "from scipy import io\n",
        "import pickle\n",
        "  #image_list = []\n",
        "pre_train.cuda()\n",
        "normalize = transforms.Normalize(mean=[0.485, 0.456, 0.406], std=[0.229, 0.224, 0.225])\n",
        "prep = transforms.Compose([ transforms.ToTensor(), normalize ])\n",
        "mean_list=[]\n",
        "c=0\n",
        "feat_1=[]\n",
        "feat_stack=[]\n",
        "torch.no_grad()\n",
        "for names in train_features[2000:]:\n",
        "  full_path = \"/content/drive/My Drive/HW5_CV/images/\" + names + \"/*\"\n",
        "  images_path = [name for name in glob.glob(full_path)]\n",
        "  #print (images_path)\n",
        "\n",
        "  with torch.no_grad():    \n",
        "    for image_path in images_path:\n",
        "      #print (image_path)\n",
        "      img = cv2.imread(image_path)\n",
        "            \n",
        "      #for filename in glob.glob(train_features[i]+\"/*\"):\n",
        "      #paths=[name for name in glob.glob(train_features[i]+\"/*\")]\n",
        "      #print (len(paths))\n",
        "      #for path in paths:\n",
        "        \n",
        "       # image=cv2.imread(path)\n",
        "        #image_list.append(image)\n",
        "      #print (len(image_list))\n",
        "      #for img in image_list:\n",
        "      img1=img[16:240,58:282]\n",
        "      img2=img[0:224,0:224]\n",
        "      img3=img[0:224,116:340]\n",
        "      img4=img[32:256,0:224]\n",
        "      img5=img[32:256,116:340]\n",
        "\n",
        "      img1=prep(img1)\n",
        "      img1=img1.unsqueeze(0)\n",
        "      img2=prep(img2)\n",
        "      img2=img2.unsqueeze(0)\n",
        "      img3=prep(img3)\n",
        "      img3=img3.unsqueeze(0)\n",
        "      img4=prep(img4)\n",
        "      img4=img4.unsqueeze(0)\n",
        "      img5=prep(img5)\n",
        "      img5=img5.unsqueeze(0)\n",
        "              \n",
        "      img1=img1.cuda()\n",
        "      feat1=pre_train(img1)\n",
        "      img2=img2.cuda()\n",
        "      feat2=pre_train(img2)\n",
        "      img3=img3.cuda()\n",
        "      feat3=pre_train(img3)\n",
        "      img4=img4.cuda()\n",
        "      feat4=pre_train(img4)\n",
        "      img5=img5.cuda()\n",
        "      feat5=pre_train(img5)\n",
        "      #inp=[img1,img2,img3,img4,img5] \n",
        "      #inp=torch.stack(inp)\n",
        "      #out=pre_train(inp)  \n",
        "      #mean=out.mean(0)\n",
        "      mean=(feat1+feat2+feat3+feat4+feat5)/5\n",
        "                  #mean = torch.mean(my_list)\n",
        "      #io.savemat('features_final.mat',{\"features\":mean})\n",
        "      #feat.append(mean)\n",
        "      feat_1.append(mean)\n",
        "    #a=torch.stack(feat_1)\n",
        "      #io.savemat('features_final_test.mat',{\"features\":feat_1})\n",
        "    #feat_stack.append(a)\n",
        "  c=c+1\n",
        "  print (c)\n"
      ],
      "execution_count": 0,
      "outputs": []
    },
    {
      "cell_type": "code",
      "metadata": {
        "id": "TVauvAuOVufU",
        "colab_type": "code",
        "colab": {}
      },
      "source": [
        "pick=open('train_5.pkl','wb')\n",
        "pickle.dump(feat_1,pick)\n",
        "pick.close()"
      ],
      "execution_count": 0,
      "outputs": []
    },
    {
      "cell_type": "code",
      "metadata": {
        "id": "EUIX2w73Vwv7",
        "colab_type": "code",
        "colab": {}
      },
      "source": [
        "del feat_1"
      ],
      "execution_count": 0,
      "outputs": []
    },
    {
      "cell_type": "code",
      "metadata": {
        "id": "F8gZEMSeYLaL",
        "colab_type": "code",
        "colab": {}
      },
      "source": [
        "\n",
        "from PIL import Image\n",
        "import glob\n",
        "import torch\n",
        "import torchvision\n",
        "import torchvision.transforms as transforms\n",
        "import numpy as np\n",
        "from scipy import io\n",
        "import pickle\n",
        "  #image_list = []\n",
        "pre_train.cuda()\n",
        "normalize = transforms.Normalize(mean=[0.485, 0.456, 0.406], std=[0.229, 0.224, 0.225])\n",
        "prep = transforms.Compose([ transforms.ToTensor(), normalize ])\n",
        "mean_list=[]\n",
        "c=0\n",
        "feat_1=[]\n",
        "feat_stack=[]\n",
        "torch.no_grad()\n",
        "for names in test_features:\n",
        "  full_path = \"/content/drive/My Drive/HW5_CV/images/\" + names + \"/*\"\n",
        "  images_path = [name for name in glob.glob(full_path)]\n",
        "  #print (images_path)\n",
        "\n",
        "  with torch.no_grad():    \n",
        "    for image_path in images_path:\n",
        "      #print (image_path)\n",
        "      img = cv2.imread(image_path)\n",
        "            \n",
        "      #for filename in glob.glob(train_features[i]+\"/*\"):\n",
        "      #paths=[name for name in glob.glob(train_features[i]+\"/*\")]\n",
        "      #print (len(paths))\n",
        "      #for path in paths:\n",
        "        \n",
        "       # image=cv2.imread(path)\n",
        "        #image_list.append(image)\n",
        "      #print (len(image_list))\n",
        "      #for img in image_list:\n",
        "      img1=img[16:240,58:282]\n",
        "      img2=img[0:224,0:224]\n",
        "      img3=img[0:224,116:340]\n",
        "      img4=img[32:256,0:224]\n",
        "      img5=img[32:256,116:340]\n",
        "\n",
        "      img1=prep(img1)\n",
        "      img1=img1.unsqueeze(0)\n",
        "      img2=prep(img2)\n",
        "      img2=img2.unsqueeze(0)\n",
        "      img3=prep(img3)\n",
        "      img3=img3.unsqueeze(0)\n",
        "      img4=prep(img4)\n",
        "      img4=img4.unsqueeze(0)\n",
        "      img5=prep(img5)\n",
        "      img5=img5.unsqueeze(0)\n",
        "              \n",
        "      img1=img1.cuda()\n",
        "      feat1=pre_train(img1)\n",
        "      img2=img2.cuda()\n",
        "      feat2=pre_train(img2)\n",
        "      img3=img3.cuda()\n",
        "      feat3=pre_train(img3)\n",
        "      img4=img4.cuda()\n",
        "      feat4=pre_train(img4)\n",
        "      img5=img5.cuda()\n",
        "      feat5=pre_train(img5)\n",
        "      #inp=[img1,img2,img3,img4,img5] \n",
        "      #inp=torch.stack(inp)\n",
        "      #out=pre_train(inp)  \n",
        "      #mean=out.mean(0)\n",
        "      mean=(feat1+feat2+feat3+feat4+feat5)/5\n",
        "                  #mean = torch.mean(my_list)\n",
        "      #io.savemat('features_final.mat',{\"features\":mean})\n",
        "      #feat.append(mean)\n",
        "      feat_1.append(mean)\n",
        "    #a=torch.stack(feat_1)\n",
        "      #io.savemat('features_final_test.mat',{\"features\":feat_1})\n",
        "    #feat_stack.append(a)\n",
        "  c=c+1\n",
        "  print (c)\n"
      ],
      "execution_count": 0,
      "outputs": []
    },
    {
      "cell_type": "code",
      "metadata": {
        "id": "RgUkchHkaKYk",
        "colab_type": "code",
        "colab": {}
      },
      "source": [
        "pick=open('test.pkl','wb')\n",
        "pickle.dump(feat_1,pick)\n",
        "pick.close()"
      ],
      "execution_count": 0,
      "outputs": []
    },
    {
      "cell_type": "code",
      "metadata": {
        "id": "VyikUaLtVymx",
        "colab_type": "code",
        "colab": {}
      },
      "source": [
        "import pickle\n",
        "f=open('train_1.pkl','rb')\n",
        "d1=pickle.load(f)\n",
        "f=open('train_2.pkl','rb')\n",
        "d2=pickle.load(f)\n",
        "f=open('train_3.pkl','rb')\n",
        "d3=pickle.load(f)\n",
        "f=open('train_4.pkl','rb')\n",
        "d4=pickle.load(f)\n",
        "f=open('train_5.pkl','rb')\n",
        "d5=pickle.load(f)\n",
        "train_data=d1+d2+d3+d4+d5"
      ],
      "execution_count": 0,
      "outputs": []
    },
    {
      "cell_type": "code",
      "metadata": {
        "id": "-xgI_FCqSbxH",
        "colab_type": "code",
        "colab": {}
      },
      "source": [
        "f=open('train_final.pkl','wb')\n",
        "pickle.load(train_data,f)"
      ],
      "execution_count": 0,
      "outputs": []
    },
    {
      "cell_type": "code",
      "metadata": {
        "id": "_ZfzmhulV8cf",
        "colab_type": "code",
        "colab": {}
      },
      "source": [
        "f=open('test_final.pkl','wb')\n",
        "pickle.load(test_data,f)"
      ],
      "execution_count": 0,
      "outputs": []
    },
    {
      "cell_type": "code",
      "metadata": {
        "id": "UE81UJUtOT_A",
        "colab_type": "code",
        "colab": {}
      },
      "source": [
        "f=open('train_final.pkl','rb')\n",
        "train_data=pickle.load(f)"
      ],
      "execution_count": 0,
      "outputs": []
    },
    {
      "cell_type": "code",
      "metadata": {
        "id": "x8BqNeWKWlvt",
        "colab_type": "code",
        "colab": {}
      },
      "source": [
        "f=open('test_final.pkl','rb')\n",
        "test_data=pickle.load(f)"
      ],
      "execution_count": 0,
      "outputs": []
    },
    {
      "cell_type": "code",
      "metadata": {
        "id": "yno6POYWlE0w",
        "colab_type": "code",
        "colab": {}
      },
      "source": [
        "#SInce the shape of train_data after loading the pickle was [1,4096], converting it to [4,25,4096]\n",
        "train1 = [t.view(-1) for t in train_data]\n",
        "#print train1[0].shape\n",
        "train2=[]\n",
        "for i in range(0,len(train1),25):\n",
        "  imd1=train1[i:i+25]\n",
        "  imd2=torch.stack(imd1)\n",
        "  train2.append(imd2)\n",
        "#print train2[0].shape\n",
        "\n",
        "train3=[]\n",
        "for i in range(0,len(train2),4):\n",
        "  imd1=train2[i:i+4]\n",
        "  imd2=torch.stack(imd1)\n",
        "  train3.append(imd2)\n",
        "#print train3[0].shape\n",
        "\n",
        "train4=[]\n",
        "for i in range(len(train_data)):\n",
        "  a,b,c=train_data[i].shape\n",
        "  data=train_data[i].view(b,a,c)\n",
        "  train4.append(data)\n",
        "#print train4[0].shape\n"
      ],
      "execution_count": 0,
      "outputs": []
    },
    {
      "cell_type": "code",
      "metadata": {
        "id": "tgnmghgCl9eP",
        "colab_type": "code",
        "colab": {}
      },
      "source": [
        "train_label1=[]\n",
        "for i in range(len(train_labels)):\n",
        "  a=train_labels[i].view(-1).long()\n",
        "  a=a-torch.ones(a.size()).long()\n",
        "  train_label1.append(a)"
      ],
      "execution_count": 0,
      "outputs": []
    },
    {
      "cell_type": "code",
      "metadata": {
        "id": "U7JKYsX7WqjM",
        "colab_type": "code",
        "colab": {}
      },
      "source": [
        "#SInce the shape of train_data after loading the pickle was [1,4096], converting it to [4,25,4096]\n",
        "test1 = [t.view(-1) for t in test_data]\n",
        "#print test1[0].shape\n",
        "test2=[]\n",
        "for i in range(0,len(test1),25):\n",
        "  imd1=test1[i:i+25]\n",
        "  imd2=torch.stack(imd1)\n",
        "  test2.append(imd2)\n",
        "#print test2[0].shape\n",
        "\n",
        "test3=[]\n",
        "for i in range(0,len(test2),4):\n",
        "  imd1=test2[i:i+4]\n",
        "  imd2=torch.stack(imd1)\n",
        "  test3.append(imd2)\n",
        "#print test3[0].shape\n",
        "\n",
        "test4=[]\n",
        "for i in range(len(test_data)):\n",
        "  a,b,c=test_data[i].shape\n",
        "  data=test_data[i].view(b,a,c)\n",
        "  test4.append(data)\n",
        "#print test4[0].shape\n"
      ],
      "execution_count": 0,
      "outputs": []
    },
    {
      "cell_type": "code",
      "metadata": {
        "id": "f5-Q2zCle78K",
        "colab_type": "code",
        "colab": {}
      },
      "source": [
        "test_label1=[]\n",
        "for i in range(len(test_labels)):\n",
        "  a=test_labels[i].view(-1).long()\n",
        "  a=a-torch.ones(a.size()).long()\n",
        "  test_label1.append(a)"
      ],
      "execution_count": 0,
      "outputs": []
    },
    {
      "cell_type": "markdown",
      "metadata": {
        "colab_type": "text",
        "id": "UN74WLWpl7zQ"
      },
      "source": [
        "***\n",
        "***\n",
        "## **Problem 2.** Modelling"
      ]
    },
    {
      "cell_type": "markdown",
      "metadata": {
        "colab_type": "text",
        "id": "Do5OSV9Mnmwy"
      },
      "source": [
        "* ##### **Print the size of your training and test data**"
      ]
    },
    {
      "cell_type": "code",
      "metadata": {
        "colab_type": "code",
        "id": "0EGU31IJn5_h",
        "outputId": "35c8d0b7-59d3-487a-e188-42fcf744de48",
        "colab": {
          "base_uri": "https://localhost:8080/",
          "height": 51
        }
      },
      "source": [
        "# Don't hardcode the shape of train and test data\n",
        "print('Shape of training data is :', )\n",
        "print('Shape of test/validation data is :', )"
      ],
      "execution_count": 87,
      "outputs": [
        {
          "output_type": "stream",
          "text": [
            "Shape of training data is :\n",
            "Shape of test/validation data is :\n"
          ],
          "name": "stdout"
        }
      ]
    },
    {
      "cell_type": "code",
      "metadata": {
        "id": "U4pBN8rzhR4N",
        "colab_type": "code",
        "colab": {}
      },
      "source": [
        "class LSTM(nn.Module):    \n",
        "    def __init__(self, hidden_dim, num_lab):\n",
        "        super(LSTM, self).__init__()\n",
        "        self.hidden_dim = hidden_dim\n",
        "        self.lstm = nn.LSTM(4096, hidden_dim)\n",
        "        self.hiddenlabel = nn.Linear(hidden_dim, num_lab)   \n",
        "\n",
        "    def forward(self, input_features):\n",
        "        batch_size = input_features.size()[1]\n",
        "        lstm_out, last_op = self.lstm(input_features)\n",
        "        out = self.hiddenlabel(last_op[0].view(batch_size,-1))\n",
        "        output_labels = F.log_softmax(out, dim=-1)\n",
        "        return output_labels"
      ],
      "execution_count": 0,
      "outputs": []
    },
    {
      "cell_type": "code",
      "metadata": {
        "id": "3_f7ejGFhTcC",
        "colab_type": "code",
        "colab": {
          "base_uri": "https://localhost:8080/",
          "height": 731
        },
        "outputId": "f2a575e0-1df3-4625-fe79-167722eee127"
      },
      "source": [
        "import torch.optim as optim\n",
        "import time\n",
        "Hidden_dim = 256\n",
        "Num_lab =25\n",
        "t1=time.time()\n",
        "model_lstm = LSTM(Hidden_dim,Num_lab)\n",
        "print(model_lstm)\n",
        "l_func = nn.NLLLoss()\n",
        "opt = optim.SGD(model_lstm.parameters(), lr=0.01)\n",
        "\n",
        "#Training\n",
        "initial_loss = 0\n",
        "for e in range(37):\n",
        "    l_count = 0.0\n",
        "    for i in range(len(train_data)):\n",
        "        features = train_data1[i]\n",
        "        labels = train_label1[i]\n",
        "        model_lstm.zero_grad()\n",
        "        outputs = model_lstm(features)\n",
        "        loss = l_func(outputs, labels)\n",
        "        loss.backward()\n",
        "        opt.step()\n",
        "        l_count += loss.item()\n",
        "    print('Epoch: %d Loss: %.3f' %(e+1, l_count/len(train_data)))\n",
        "\n",
        "print (\"Training done in\",(time.time()-t1)/60,\"minutes\")"
      ],
      "execution_count": 80,
      "outputs": [
        {
          "output_type": "stream",
          "text": [
            "LSTM(\n",
            "  (lstm): LSTM(4096, 256)\n",
            "  (hiddenlabel): Linear(in_features=256, out_features=25, bias=True)\n",
            ")\n",
            "Epoch: 1 Loss: 3.217\n",
            "Epoch: 2 Loss: 3.125\n",
            "Epoch: 3 Loss: 3.020\n",
            "Epoch: 4 Loss: 2.894\n",
            "Epoch: 5 Loss: 2.750\n",
            "Epoch: 6 Loss: 2.586\n",
            "Epoch: 7 Loss: 2.446\n",
            "Epoch: 8 Loss: 2.309\n",
            "Epoch: 9 Loss: 2.178\n",
            "Epoch: 10 Loss: 2.054\n",
            "Epoch: 11 Loss: 1.946\n",
            "Epoch: 12 Loss: 1.811\n",
            "Epoch: 13 Loss: 1.701\n",
            "Epoch: 14 Loss: 1.611\n",
            "Epoch: 15 Loss: 1.498\n",
            "Epoch: 16 Loss: 1.423\n",
            "Epoch: 17 Loss: 1.330\n",
            "Epoch: 18 Loss: 1.241\n",
            "Epoch: 19 Loss: 1.216\n",
            "Epoch: 20 Loss: 1.066\n",
            "Epoch: 21 Loss: 1.006\n",
            "Epoch: 22 Loss: 0.969\n",
            "Epoch: 23 Loss: 0.969\n",
            "Epoch: 24 Loss: 0.961\n",
            "Epoch: 25 Loss: 0.933\n",
            "Epoch: 26 Loss: 0.844\n",
            "Epoch: 27 Loss: 0.736\n",
            "Epoch: 28 Loss: 0.631\n",
            "Epoch: 29 Loss: 0.563\n",
            "Epoch: 30 Loss: 0.484\n",
            "Epoch: 31 Loss: 0.463\n",
            "Epoch: 32 Loss: 0.365\n",
            "Epoch: 33 Loss: 0.306\n",
            "Epoch: 34 Loss: 0.240\n",
            "Epoch: 35 Loss: 0.168\n",
            "Epoch: 36 Loss: 0.111\n",
            "Epoch: 37 Loss: 0.074\n",
            "Training done in 15.106865974267324 minutes\n"
          ],
          "name": "stdout"
        }
      ]
    },
    {
      "cell_type": "code",
      "metadata": {
        "id": "zJb8bY75XeOE",
        "colab_type": "code",
        "colab": {
          "base_uri": "https://localhost:8080/",
          "height": 34
        },
        "outputId": "94c17086-730e-4ed8-a1c6-afd839f14506"
      },
      "source": [
        "with torch.no_grad():\n",
        "  corr = 0\n",
        "  t=0\n",
        "  for i in range(len(train_data)):\n",
        "      feats = train_data1[i]\n",
        "      labels = train_label1[i]\n",
        "      outputs = model_lstm(feats)\n",
        "      _, pred = torch.max(outputs.data, 1)\n",
        "      t += labels.size(0)\n",
        "      corr += (pred == labels).sum().item()\n",
        "      accuracy = (corr/t)*100\n",
        "print(\"Accuracy on the train dataset is:\", accuracy)"
      ],
      "execution_count": 81,
      "outputs": [
        {
          "output_type": "stream",
          "text": [
            "Accuracy on the train dataset is: 99.75093399750934\n"
          ],
          "name": "stdout"
        }
      ]
    },
    {
      "cell_type": "code",
      "metadata": {
        "id": "Xqd47CMVblOB",
        "colab_type": "code",
        "colab": {
          "base_uri": "https://localhost:8080/",
          "height": 34
        },
        "outputId": "4ecd33b0-76ba-4279-f237-e8dc8d4b3077"
      },
      "source": [
        "with torch.no_grad():\n",
        "  corr = 0\n",
        "  t=0\n",
        "  for i in range(len(test_data)):\n",
        "      feats = test_data1[i]\n",
        "      labels = test_label1[i]\n",
        "      outputs = model_lstm(feats)\n",
        "      _, pred = torch.max(outputs.data, 1)\n",
        "      t += labels.size(0)\n",
        "      corr += (pred == labels).sum().item()\n",
        "      accuracy_test = (corr/t)*100\n",
        "print(\"Accuracy on the test dataset is:\", accuracy_test)"
      ],
      "execution_count": 82,
      "outputs": [
        {
          "output_type": "stream",
          "text": [
            "Accuracy on the test dataset is: 79.81072555205047\n"
          ],
          "name": "stdout"
        }
      ]
    },
    {
      "cell_type": "code",
      "metadata": {
        "id": "XLxI_M4Wbdxk",
        "colab_type": "code",
        "colab": {
          "base_uri": "https://localhost:8080/",
          "height": 731
        },
        "outputId": "8e59dab4-00d1-427c-8f20-8b106824967a"
      },
      "source": [
        "import torch.optim as optim\n",
        "import time\n",
        "Hidden_dim = 512\n",
        "Num_lab =25\n",
        "t1=time.time()\n",
        "model_lstm1 = LSTM(Hidden_dim,Num_lab)\n",
        "print (model_lstm1)\n",
        "l_func = nn.NLLLoss()\n",
        "opt = optim.SGD(model_lstm1.parameters(), lr=0.01)\n",
        "\n",
        "#Training\n",
        "initial_loss = 0\n",
        "for e in range(37):\n",
        "    l_count = 0.0\n",
        "    for i in range(len(train_data)):\n",
        "        features = train_data1[i]\n",
        "        labels = train_label1[i]\n",
        "        model_lstm1.zero_grad()\n",
        "        outputs = model_lstm1(features)\n",
        "        loss = l_func(outputs, labels)\n",
        "        loss.backward()\n",
        "        opt.step()\n",
        "        l_count += loss.item()\n",
        "    print('Epoch: %d Loss: %.3f' %(e+1, l_count/len(train_data)))\n",
        "\n",
        "print (\"Training done in\",(time.time()-t1)/60,\"minutes\")"
      ],
      "execution_count": 76,
      "outputs": [
        {
          "output_type": "stream",
          "text": [
            "LSTM(\n",
            "  (lstm): LSTM(4096, 512)\n",
            "  (hiddenlabel): Linear(in_features=512, out_features=25, bias=True)\n",
            ")\n",
            "Epoch: 1 Loss: 3.203\n",
            "Epoch: 2 Loss: 3.084\n",
            "Epoch: 3 Loss: 2.941\n",
            "Epoch: 4 Loss: 2.775\n",
            "Epoch: 5 Loss: 2.599\n",
            "Epoch: 6 Loss: 2.417\n",
            "Epoch: 7 Loss: 2.263\n",
            "Epoch: 8 Loss: 2.110\n",
            "Epoch: 9 Loss: 1.977\n",
            "Epoch: 10 Loss: 1.877\n",
            "Epoch: 11 Loss: 1.777\n",
            "Epoch: 12 Loss: 1.671\n",
            "Epoch: 13 Loss: 1.604\n",
            "Epoch: 14 Loss: 1.540\n",
            "Epoch: 15 Loss: 1.459\n",
            "Epoch: 16 Loss: 1.344\n",
            "Epoch: 17 Loss: 1.285\n",
            "Epoch: 18 Loss: 1.201\n",
            "Epoch: 19 Loss: 1.183\n",
            "Epoch: 20 Loss: 1.143\n",
            "Epoch: 21 Loss: 1.070\n",
            "Epoch: 22 Loss: 1.005\n",
            "Epoch: 23 Loss: 0.951\n",
            "Epoch: 24 Loss: 0.900\n",
            "Epoch: 25 Loss: 0.819\n",
            "Epoch: 26 Loss: 0.853\n",
            "Epoch: 27 Loss: 0.795\n",
            "Epoch: 28 Loss: 0.696\n",
            "Epoch: 29 Loss: 0.651\n",
            "Epoch: 30 Loss: 0.583\n",
            "Epoch: 31 Loss: 0.521\n",
            "Epoch: 32 Loss: 0.452\n",
            "Epoch: 33 Loss: 0.403\n",
            "Epoch: 34 Loss: 0.348\n",
            "Epoch: 35 Loss: 0.296\n",
            "Epoch: 36 Loss: 0.261\n",
            "Epoch: 37 Loss: 0.191\n",
            "Training done in 36.734095601240796 minutes\n"
          ],
          "name": "stdout"
        }
      ]
    },
    {
      "cell_type": "code",
      "metadata": {
        "id": "G5wxgVtUfTgS",
        "colab_type": "code",
        "colab": {
          "base_uri": "https://localhost:8080/",
          "height": 34
        },
        "outputId": "953f0fa1-daad-4ec1-f2d1-e3039ae71326"
      },
      "source": [
        "with torch.no_grad():\n",
        "  corr = 0\n",
        "  t=0\n",
        "  for i in range(len(train_data)):\n",
        "      feats = train_data1[i]\n",
        "      labels = train_label1[i]\n",
        "      outputs = model_lstm1(feats)\n",
        "      _, pred = torch.max(outputs.data, 1)\n",
        "      t += labels.size(0)\n",
        "      corr += (pred == labels).sum().item()\n",
        "      accuracy_NEW = (corr/t)*100\n",
        "print(\"Accuracy on the train dataset is:\", accuracy_NEW)"
      ],
      "execution_count": 77,
      "outputs": [
        {
          "output_type": "stream",
          "text": [
            "Accuracy on the train dataset is: 96.13947696139476\n"
          ],
          "name": "stdout"
        }
      ]
    },
    {
      "cell_type": "code",
      "metadata": {
        "id": "oBf8TKXwfULf",
        "colab_type": "code",
        "colab": {
          "base_uri": "https://localhost:8080/",
          "height": 34
        },
        "outputId": "85a960f7-2648-4c33-f7fb-53bef07b7163"
      },
      "source": [
        "with torch.no_grad():\n",
        "  corr = 0\n",
        "  t=0\n",
        "  for i in range(len(test_data)):\n",
        "      feats = test_data1[i]\n",
        "      labels = test_label1[i]\n",
        "      outputs = model_lstm1(feats)\n",
        "      _, pred = torch.max(outputs.data, 1)\n",
        "      t += labels.size(0)\n",
        "      corr += (pred == labels).sum().item()\n",
        "      accuracy_test_NEW = (corr/t)*100\n",
        "print(\"Accuracy on the test dataset is:\", accuracy_test_NEW)"
      ],
      "execution_count": 78,
      "outputs": [
        {
          "output_type": "stream",
          "text": [
            "Accuracy on the test dataset is: 78.44374342797056\n"
          ],
          "name": "stdout"
        }
      ]
    },
    {
      "cell_type": "markdown",
      "metadata": {
        "colab_type": "text",
        "id": "v0znm2TMmsDZ"
      },
      "source": [
        "---\n",
        "---\n",
        "## **Problem 3.** Evaluation"
      ]
    },
    {
      "cell_type": "markdown",
      "metadata": {
        "colab_type": "text",
        "id": "80ZUeqnGv48f"
      },
      "source": [
        "* ##### **Print the train and test accuracy of your model** "
      ]
    },
    {
      "cell_type": "code",
      "metadata": {
        "colab_type": "code",
        "id": "UMMXAjMjv4g5",
        "outputId": "c08f4ab8-ea4e-40e4-a0a7-c0b111f5a5fa",
        "colab": {
          "base_uri": "https://localhost:8080/",
          "height": 51
        }
      },
      "source": [
        "# Don't hardcode the train and test accuracy\n",
        "#For hidden dimension=256\n",
        "print('Training accuracy is %2.3f :', accuracy )\n",
        "print('Test accuracy is %2.3f :', accuracy_test)"
      ],
      "execution_count": 84,
      "outputs": [
        {
          "output_type": "stream",
          "text": [
            "Training accuracy is %2.3f : 99.75093399750934\n",
            "Test accuracy is %2.3f : 79.81072555205047\n"
          ],
          "name": "stdout"
        }
      ]
    },
    {
      "cell_type": "code",
      "metadata": {
        "id": "7RSwUi9Vfos9",
        "colab_type": "code",
        "colab": {
          "base_uri": "https://localhost:8080/",
          "height": 51
        },
        "outputId": "fdc732e3-9cfe-4896-85a0-58dd51f4e4b3"
      },
      "source": [
        "# Don't hardcode the train and test accuracy\n",
        "#For hidden dimension=512\n",
        "print('Training accuracy is %2.3f :', accuracy_NEW )\n",
        "print('Test accuracy is %2.3f :', accuracy_test_NEW)"
      ],
      "execution_count": 85,
      "outputs": [
        {
          "output_type": "stream",
          "text": [
            "Training accuracy is %2.3f : 96.13947696139476\n",
            "Test accuracy is %2.3f : 78.44374342797056\n"
          ],
          "name": "stdout"
        }
      ]
    },
    {
      "cell_type": "markdown",
      "metadata": {
        "colab_type": "text",
        "id": "eesNQn6FYKQz"
      },
      "source": [
        "* ##### **Print the train and test and test accuracy of SVM** "
      ]
    },
    {
      "cell_type": "code",
      "metadata": {
        "colab_type": "code",
        "id": "ip87hPqTYJtr",
        "outputId": "62743d24-ce79-4a89-e42f-f4af278235d6",
        "colab": {
          "base_uri": "https://localhost:8080/",
          "height": 51
        }
      },
      "source": [
        "# Don't hardcode the train and test accuracy\n",
        "print('Training accuracy is %2.3f :' %(100.00) )\n",
        "print('Test accuracy is %2.3f :' %(100.00) )"
      ],
      "execution_count": 0,
      "outputs": [
        {
          "output_type": "stream",
          "text": [
            "Training accuracy is 100.000 :\n",
            "Test accuracy is 100.000 :\n"
          ],
          "name": "stdout"
        }
      ]
    },
    {
      "cell_type": "markdown",
      "metadata": {
        "colab_type": "text",
        "id": "cL4Y3nHBkwmb"
      },
      "source": [
        "## **Problem 4.** Report"
      ]
    },
    {
      "cell_type": "markdown",
      "metadata": {
        "id": "JbzpDeRRNuHj",
        "colab_type": "text"
      },
      "source": [
        "## **Bonus**\n"
      ]
    },
    {
      "cell_type": "markdown",
      "metadata": {
        "colab_type": "text",
        "id": "jPrhLzuyN-rr"
      },
      "source": [
        "* ##### **Print the size of your training and test data**"
      ]
    },
    {
      "cell_type": "code",
      "metadata": {
        "id": "b8IR6zrwOENz",
        "colab_type": "code",
        "colab": {}
      },
      "source": [
        "# Don't hardcode the shape of train and test data\n",
        "print('Shape of training data is :', )\n",
        "print('Shape of test/validation data is :', )"
      ],
      "execution_count": 0,
      "outputs": []
    },
    {
      "cell_type": "markdown",
      "metadata": {
        "colab_type": "text",
        "id": "GAakVg8-OE_j"
      },
      "source": [
        "* ##### **Modelling and evaluation**"
      ]
    },
    {
      "cell_type": "code",
      "metadata": {
        "id": "QHbPzkcoObLb",
        "colab_type": "code",
        "colab": {}
      },
      "source": [
        "#Write your code for modelling and evaluation"
      ],
      "execution_count": 0,
      "outputs": []
    },
    {
      "cell_type": "markdown",
      "metadata": {
        "colab_type": "text",
        "id": "vb4Wlzw2jYcJ"
      },
      "source": [
        "## Submission\n",
        "---\n",
        "**Runnable source code in ipynb file and a pdf report are required**.\n",
        "\n",
        "The report should be of 3 to 4 pages describing what you have done and learned in this homework and report performance of your model. If you have tried multiple methods, please compare your results. If you are using any external code, please cite it in your report. Note that this homework is designed to help you explore and get familiar with the techniques. The final grading will be largely based on your prediction accuracy and the different methods you tried (different architectures and parameters).\n",
        "\n",
        "Please indicate clearly in your report what model you have tried, what techniques you applied to improve the performance and report their accuracies. The report should be concise and include the highlights of your efforts.\n",
        "The naming convention for report is **Surname_Givenname_SBUID_report*.pdf**\n",
        "\n",
        "When submitting your .zip file through blackboard, please\n",
        "-- name your .zip file as **Surname_Givenname_SBUID_hw*.zip**.\n",
        "\n",
        "This zip file should include:\n",
        "```\n",
        "Surname_Givenname_SBUID_hw*\n",
        "        |---Surname_Givenname_SBUID_hw*.ipynb\n",
        "        |---Surname_Givenname_SBUID_hw*.pdf\n",
        "        |---Surname_Givenname_SBUID_report*.pdf\n",
        "```\n",
        "\n",
        "For instance, student Michael Jordan should submit a zip file named \"Jordan_Michael_111134567_hw5.zip\" for homework5 in this structure:\n",
        "```\n",
        "Jordan_Michael_111134567_hw5\n",
        "        |---Jordan_Michael_111134567_hw5.ipynb\n",
        "        |---Jordan_Michael_111134567_hw5.pdf\n",
        "        |---Jordan_Michael_111134567_report*.pdf\n",
        "```\n",
        "\n",
        "The **Surname_Givenname_SBUID_hw*.pdf** should include a **google shared link**. To generate the **google shared link**, first create a folder named **Surname_Givenname_SBUID_hw*** in your Google Drive with your Stony Brook account. \n",
        "\n",
        "Then right click this folder, click ***Get shareable link***, in the People textfield, enter two TA's emails: ***bo.cao.1@stonybrook.edu*** and ***sayontan.ghosh@stonybrook.edu***. Make sure that TAs who have the link **can edit**, ***not just*** **can view**, and also **uncheck** the **Notify people** box.\n",
        "\n",
        "Colab has a good feature of version control, you should take advantage of this to save your work properly. However, the timestamp of the submission made in blackboard is the only one that we consider for grading. To be more specific, we will only grade the version of your code right before the timestamp of the submission made in blackboard. \n",
        "\n",
        "You are encouraged to post and answer questions on Piazza. Based on the amount of email that we have received in past years, there might be dealys in replying to personal emails. Please ask questions on Piazza and send emails only for personal issues.\n",
        "\n",
        "Be aware that your code will undergo plagiarism check both vertically and horizontally. Please do your own work."
      ]
    }
  ]
}